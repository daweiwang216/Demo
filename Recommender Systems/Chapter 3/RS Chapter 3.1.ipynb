{
 "cells": [
  {
   "cell_type": "markdown",
   "id": "19efcf9a",
   "metadata": {},
   "source": [
    "# Chapter 3 Part 1<br>Content-Based Joke Recommendation \n",
    "## <br>Dawei Wang"
   ]
  },
  {
   "cell_type": "markdown",
   "id": "014a40f8",
   "metadata": {},
   "source": [
    "In this chapter, you will explore content-based filtering methods for recommendation. Specifically, you'll learn how you can extract features from content associated with items, represent items as feature vectors, create user profiles, and generate both personalized and non-personalized content-based recommendations. In the second part of this assignment, you'll learn how to do more systematic parameter optimization for different recommendation models. For this task you'll use the Surprise package."
   ]
  },
  {
   "cell_type": "code",
   "execution_count": 1,
   "id": "1352a47a",
   "metadata": {},
   "outputs": [
    {
     "name": "stdout",
     "output_type": "stream",
     "text": [
      "Version list\n",
      "\n",
      "python 3.9.7\n",
      "numpy 1.22.2\n",
      "pandas 1.3.5\n",
      "scipy 1.7.3\n",
      "seaborn 0.11.2\n",
      "matplotlib 3.5.1\n",
      "nltk 3.7\n"
     ]
    }
   ],
   "source": [
    "import os\n",
    "import matplotlib\n",
    "import pandas as pd\n",
    "import numpy as np\n",
    "import scipy as sp\n",
    "import seaborn as sns\n",
    "import re\n",
    "import nltk      \n",
    "from nltk.stem import PorterStemmer\n",
    "from nltk.corpus import stopwords\n",
    "from sklearn.feature_extraction.text import TfidfVectorizer, CountVectorizer\n",
    "from matplotlib import pyplot as plt\n",
    "from platform import python_version\n",
    "from scipy.spatial.distance import cosine, correlation\n",
    "from sklearn.metrics import mean_squared_error, mean_absolute_error\n",
    "\n",
    "pd.set_option('max_columns',200)\n",
    "pd.set_option('display.precision',2)\n",
    "\n",
    "print('Version list\\n')\n",
    "print('python',python_version())\n",
    "print(np.__name__, np.__version__)\n",
    "print(pd.__name__, pd.__version__)\n",
    "print(sp.__name__, sp.__version__)\n",
    "print(sns.__name__, sns.__version__)\n",
    "print(matplotlib.__name__, matplotlib.__version__)\n",
    "print(nltk.__name__, nltk.__version__)"
   ]
  },
  {
   "cell_type": "markdown",
   "id": "e217fd3d",
   "metadata": {},
   "source": [
    "### 1a"
   ]
  },
  {
   "cell_type": "markdown",
   "id": "31cc6db4",
   "metadata": {},
   "source": [
    "Read in the joke ratings data as well as joke text data into appropriate data structures. First, preprocess the joke text data (tokenization, stop word removal, stemming) and create feature vector representation of jokes with TFxIDF weights. Note that for some of the preprocessing steps, you may need to install NLTK package if not already installed with your Anaconda distribution. For the vectorization, you can use functions from Scikit-learn's feature_extraction.text module. Show the feature set or the vocabulary for the item vectors."
   ]
  },
  {
   "cell_type": "code",
   "execution_count": 2,
   "id": "44e9a8c0",
   "metadata": {},
   "outputs": [],
   "source": [
    "os.chdir('/Users/daweiwang/Desktop/CSC 577/Assignments')"
   ]
  },
  {
   "cell_type": "markdown",
   "id": "a4c01d21",
   "metadata": {},
   "source": [
    "<font size =4>*Import joke and rate dataset and transfer them to DataFrame*"
   ]
  },
  {
   "cell_type": "code",
   "execution_count": 3,
   "id": "8ae9669a",
   "metadata": {},
   "outputs": [],
   "source": [
    "# use a function to transfer text document into appropriate data structure\n",
    "def load_jokes(file):\n",
    "    jokes = np.genfromtxt(file, delimiter=',', dtype=str)\n",
    "    jokes = np.array(jokes[:,1])\n",
    "    return jokes\n",
    "joke = load_jokes(\"jokes.csv\")\n",
    "rate = np.loadtxt('joke-ratings.csv', delimiter =',')"
   ]
  },
  {
   "cell_type": "code",
   "execution_count": 4,
   "id": "61be6bcf",
   "metadata": {},
   "outputs": [
    {
     "data": {
      "text/plain": [
       "(100,)"
      ]
     },
     "execution_count": 4,
     "metadata": {},
     "output_type": "execute_result"
    }
   ],
   "source": [
    "joke.shape"
   ]
  },
  {
   "cell_type": "code",
   "execution_count": 5,
   "id": "174d79e2",
   "metadata": {},
   "outputs": [
    {
     "data": {
      "text/plain": [
       "'A man visits the doctor. The doctor says \"I have bad news for you.You have cancer and Alzheimer\\'s disease\". The man replies \"Well thank God I don\\'t have cancer!\"'"
      ]
     },
     "execution_count": 5,
     "metadata": {},
     "output_type": "execute_result"
    }
   ],
   "source": [
    "joke[0]"
   ]
  },
  {
   "cell_type": "code",
   "execution_count": 6,
   "id": "8857ce03",
   "metadata": {},
   "outputs": [
    {
     "data": {
      "text/html": [
       "<div>\n",
       "<style scoped>\n",
       "    .dataframe tbody tr th:only-of-type {\n",
       "        vertical-align: middle;\n",
       "    }\n",
       "\n",
       "    .dataframe tbody tr th {\n",
       "        vertical-align: top;\n",
       "    }\n",
       "\n",
       "    .dataframe thead th {\n",
       "        text-align: right;\n",
       "    }\n",
       "</style>\n",
       "<table border=\"1\" class=\"dataframe\">\n",
       "  <thead>\n",
       "    <tr style=\"text-align: right;\">\n",
       "      <th></th>\n",
       "      <th>text</th>\n",
       "    </tr>\n",
       "  </thead>\n",
       "  <tbody>\n",
       "    <tr>\n",
       "      <th>0</th>\n",
       "      <td>A man visits the doctor. The doctor says \"I ha...</td>\n",
       "    </tr>\n",
       "    <tr>\n",
       "      <th>1</th>\n",
       "      <td>This couple had an excellent relationship goin...</td>\n",
       "    </tr>\n",
       "    <tr>\n",
       "      <th>2</th>\n",
       "      <td>Q. What's 200 feet long and has 4 teeth? A. Th...</td>\n",
       "    </tr>\n",
       "    <tr>\n",
       "      <th>3</th>\n",
       "      <td>Q. What's the difference between a man and a t...</td>\n",
       "    </tr>\n",
       "    <tr>\n",
       "      <th>4</th>\n",
       "      <td>Q. What's O. J. Simpson's Internet address? A....</td>\n",
       "    </tr>\n",
       "    <tr>\n",
       "      <th>...</th>\n",
       "      <td>...</td>\n",
       "    </tr>\n",
       "    <tr>\n",
       "      <th>95</th>\n",
       "      <td>Two attorneys went into a diner and ordered tw...</td>\n",
       "    </tr>\n",
       "    <tr>\n",
       "      <th>96</th>\n",
       "      <td>A teacher is explaining to her class how diffe...</td>\n",
       "    </tr>\n",
       "    <tr>\n",
       "      <th>97</th>\n",
       "      <td>Age and Womanhood1. Between the ages of 13 and...</td>\n",
       "    </tr>\n",
       "    <tr>\n",
       "      <th>98</th>\n",
       "      <td>A bus station is where a bus stops.A train sta...</td>\n",
       "    </tr>\n",
       "    <tr>\n",
       "      <th>99</th>\n",
       "      <td>Q: What's the difference between greeting a Qu...</td>\n",
       "    </tr>\n",
       "  </tbody>\n",
       "</table>\n",
       "<p>100 rows × 1 columns</p>\n",
       "</div>"
      ],
      "text/plain": [
       "                                                 text\n",
       "0   A man visits the doctor. The doctor says \"I ha...\n",
       "1   This couple had an excellent relationship goin...\n",
       "2   Q. What's 200 feet long and has 4 teeth? A. Th...\n",
       "3   Q. What's the difference between a man and a t...\n",
       "4   Q. What's O. J. Simpson's Internet address? A....\n",
       "..                                                ...\n",
       "95  Two attorneys went into a diner and ordered tw...\n",
       "96  A teacher is explaining to her class how diffe...\n",
       "97  Age and Womanhood1. Between the ages of 13 and...\n",
       "98  A bus station is where a bus stops.A train sta...\n",
       "99  Q: What's the difference between greeting a Qu...\n",
       "\n",
       "[100 rows x 1 columns]"
      ]
     },
     "execution_count": 6,
     "metadata": {},
     "output_type": "execute_result"
    }
   ],
   "source": [
    "jokes = pd.DataFrame(joke, columns=['text'])\n",
    "jokes"
   ]
  },
  {
   "cell_type": "code",
   "execution_count": 7,
   "id": "e7af5c4d",
   "metadata": {},
   "outputs": [
    {
     "data": {
      "text/plain": [
       "(1000, 100)"
      ]
     },
     "execution_count": 7,
     "metadata": {},
     "output_type": "execute_result"
    }
   ],
   "source": [
    "rate.shape"
   ]
  },
  {
   "cell_type": "code",
   "execution_count": 8,
   "id": "1a7f6426",
   "metadata": {},
   "outputs": [
    {
     "data": {
      "text/plain": [
       "array([[ 3., 19.,  1., ...,  0.,  0.,  0.],\n",
       "       [15., 10., 17., ..., 11.,  6., 12.],\n",
       "       [ 0.,  0.,  0., ...,  0.,  0.,  0.],\n",
       "       ...,\n",
       "       [16., 16., 15., ...,  0.,  0.,  0.],\n",
       "       [ 3.,  4.,  3., ...,  3.,  3.,  3.],\n",
       "       [ 9., 11.,  9., ...,  0.,  0.,  0.]])"
      ]
     },
     "execution_count": 8,
     "metadata": {},
     "output_type": "execute_result"
    }
   ],
   "source": [
    "rate"
   ]
  },
  {
   "cell_type": "markdown",
   "id": "0ce8fc9a",
   "metadata": {},
   "source": [
    "<font size = 4>*Get Stop Words from local file*"
   ]
  },
  {
   "cell_type": "code",
   "execution_count": 9,
   "id": "ee1c6c06",
   "metadata": {},
   "outputs": [],
   "source": [
    "def get_stop_words():\n",
    "    result = set()\n",
    "    for line in open('stopwords_en.txt', 'r').readlines():\n",
    "        result.add(line.strip())\n",
    "    return result"
   ]
  },
  {
   "cell_type": "code",
   "execution_count": 10,
   "id": "c54fdf7e",
   "metadata": {},
   "outputs": [],
   "source": [
    "stop_words = get_stop_words()"
   ]
  },
  {
   "cell_type": "markdown",
   "id": "03c46a9d",
   "metadata": {},
   "source": [
    "<font size = 4>*Tokenize the documents and create as document-feature matrix*"
   ]
  },
  {
   "cell_type": "code",
   "execution_count": 17,
   "id": "f454a99c",
   "metadata": {},
   "outputs": [],
   "source": [
    "# use local stop words text file \n",
    "vectorizer = TfidfVectorizer(stop_words=stop_words, norm=None, max_df=0.8, min_df=3)"
   ]
  },
  {
   "cell_type": "code",
   "execution_count": 18,
   "id": "281ddaa6",
   "metadata": {},
   "outputs": [
    {
     "data": {
      "text/plain": [
       "<100x140 sparse matrix of type '<class 'numpy.float64'>'\n",
       "\twith 690 stored elements in Compressed Sparse Row format>"
      ]
     },
     "execution_count": 18,
     "metadata": {},
     "output_type": "execute_result"
    }
   ],
   "source": [
    "joke_mat = vectorizer.fit_transform(jokes['text'])\n",
    "joke_mat"
   ]
  },
  {
   "cell_type": "code",
   "execution_count": 19,
   "id": "31ed46a8",
   "metadata": {},
   "outputs": [
    {
     "name": "stdout",
     "output_type": "stream",
     "text": [
      "  (0, 26)\t3.312535423847214\n",
      "  (0, 95)\t3.217225244042889\n",
      "  (0, 83)\t4.005682604407159\n",
      "  (0, 5)\t4.228826155721369\n",
      "  (0, 101)\t2.2478246868547855\n",
      "  (0, 24)\t8.457652311442738\n",
      "  (0, 72)\t5.563814345570087\n",
      "  (1, 86)\t3.5356789751614235\n",
      "  (1, 136)\t3.6692103677859462\n",
      "  (1, 133)\t4.228826155721369\n",
      "  (1, 10)\t4.005682604407159\n",
      "  (1, 94)\t3.217225244042889\n",
      "  (1, 71)\t3.6692103677859462\n",
      "  (1, 99)\t3.217225244042889\n",
      "  (1, 121)\t8.011365208814318\n",
      "  (1, 2)\t3.130213867053259\n",
      "  (1, 134)\t3.8233610476132043\n",
      "  (1, 51)\t4.005682604407159\n",
      "  (1, 13)\t4.005682604407159\n",
      "  (1, 21)\t3.5356789751614235\n",
      "  (1, 40)\t3.5356789751614235\n",
      "  (1, 20)\t4.005682604407159\n",
      "  (2, 65)\t3.8233610476132043\n",
      "  (2, 33)\t4.228826155721369\n",
      "  (3, 124)\t4.005682604407159\n",
      "  :\t:\n",
      "  (92, 94)\t3.217225244042889\n",
      "  (92, 99)\t9.651675732128666\n",
      "  (92, 2)\t3.130213867053259\n",
      "  (93, 84)\t3.6692103677859462\n",
      "  (93, 104)\t4.005682604407159\n",
      "  (93, 125)\t3.5356789751614235\n",
      "  (93, 95)\t3.217225244042889\n",
      "  (93, 101)\t4.495649373709571\n",
      "  (94, 4)\t4.228826155721369\n",
      "  (94, 55)\t2.976063187226001\n",
      "  (95, 129)\t4.228826155721369\n",
      "  (95, 111)\t4.005682604407159\n",
      "  (95, 121)\t4.005682604407159\n",
      "  (96, 113)\t4.228826155721369\n",
      "  (96, 115)\t4.228826155721369\n",
      "  (96, 57)\t12.686478467164108\n",
      "  (96, 124)\t4.005682604407159\n",
      "  (96, 71)\t11.007631103357838\n",
      "  (96, 101)\t4.495649373709571\n",
      "  (97, 52)\t4.228826155721369\n",
      "  (97, 38)\t4.005682604407159\n",
      "  (97, 8)\t4.005682604407159\n",
      "  (97, 62)\t17.67839487580712\n",
      "  (98, 134)\t3.8233610476132043\n",
      "  (99, 23)\t3.217225244042889\n"
     ]
    }
   ],
   "source": [
    "print(joke_mat[0:100])"
   ]
  },
  {
   "cell_type": "code",
   "execution_count": 20,
   "id": "e8f2145f",
   "metadata": {},
   "outputs": [
    {
     "name": "stdout",
     "output_type": "stream",
     "text": [
      "['big' 'boy' 'bulb' 'came' 'car' 'change' 'clinton' 'come' 'company'\n",
      " 'country' 'couple' 'day' 'did' 'difference' 'doctor' 'does' 'don' 'door'\n",
      " 'drink' 'eating' 'end' 'engineer' 'father' 'feet' 'finally' 'fine'\n",
      " 'funny' 'girl' 'gives' 'goes' 'going' 'good' 'got' 'great' 'ground'\n",
      " 'group' 'guy' 'having' 'head' 'hell' 'hillary' 'home' 'hot' 'husband'\n",
      " 'jewish' 'just' 'know' 'languages' 'later' 'left' 'light' 'lightbulb'\n",
      " 'like' 'little' 'll' 'long' 'look' 'looking' 'looks' 'lot' 'love' 'make'\n",
      " 'man' 'married' 'mechanical' 'men' 'mess' 'met' 'minutes' 'morning'\n",
      " 'mother' 'need' 'new' 'news' 'oh' 'okay' 'old' 'orders' 'paid' 'pass'\n",
      " 'person' 'problem' 'pulls' 'recent' 'replied' 'replies' 'returns' 'room'\n",
      " 'runs' 'said' 'say' 'says' 'school' 'screw' 'second' 'sir' 'sits' 'sleep'\n",
      " 'sleeping' 'son' 'start' 'started' 'straight' 'students' 'takes'\n",
      " 'teacher' 'tell' 'tells' 'thing' 'think' 'time' 'told' 'took' 'turns'\n",
      " 'use' 've' 'voice' 'walks' 'want' 'went' 'wife' 'woman' 'won' 'word'\n",
      " 'work' 'worked' 'year' 'years' 'yes' 'young']\n"
     ]
    }
   ],
   "source": [
    "features = vectorizer.get_feature_names_out()\n",
    "print(features[10:220])"
   ]
  },
  {
   "cell_type": "code",
   "execution_count": 21,
   "id": "35c77202",
   "metadata": {},
   "outputs": [
    {
     "data": {
      "text/plain": [
       "{'man': 72,\n",
       " 'doctor': 24,\n",
       " 'says': 101,\n",
       " 'bad': 5,\n",
       " 'news': 83,\n",
       " 'replies': 95,\n",
       " 'don': 26,\n",
       " 'couple': 20,\n",
       " 'going': 40,\n",
       " 'day': 21,\n",
       " 'came': 13,\n",
       " 'home': 51,\n",
       " 'work': 134,\n",
       " 'asked': 2,\n",
       " 'told': 121,\n",
       " 'said': 99,\n",
       " 'make': 71,\n",
       " 'replied': 94,\n",
       " 'big': 10,\n",
       " 'word': 133,\n",
       " 'year': 136,\n",
       " 'old': 86,\n",
       " 'feet': 33,\n",
       " 'long': 65,\n",
       " 'difference': 23,\n",
       " 'use': 124,\n",
       " 'hillary': 50,\n",
       " 'pulls': 92,\n",
       " 'runs': 98,\n",
       " 'school': 102,\n",
       " 'car': 14,\n",
       " 'say': 100,\n",
       " 'good': 41,\n",
       " 'turns': 123,\n",
       " 'married': 73,\n",
       " 've': 125,\n",
       " 'wife': 130,\n",
       " 'does': 25,\n",
       " 'screw': 103,\n",
       " 'light': 60,\n",
       " 'bulb': 12,\n",
       " 'funny': 36,\n",
       " 'did': 22,\n",
       " 'country': 19,\n",
       " 'guy': 46,\n",
       " 'goes': 39,\n",
       " 'bar': 6,\n",
       " 'got': 42,\n",
       " 'like': 62,\n",
       " 'returns': 96,\n",
       " 'okay': 85,\n",
       " 'come': 17,\n",
       " 'just': 55,\n",
       " 'start': 110,\n",
       " 'eating': 29,\n",
       " 'looking': 67,\n",
       " 'finally': 34,\n",
       " 'hell': 49,\n",
       " 'answers': 1,\n",
       " 'want': 128,\n",
       " 'morning': 79,\n",
       " 'father': 32,\n",
       " 'boy': 11,\n",
       " 'yes': 138,\n",
       " 'sir': 105,\n",
       " 'minutes': 78,\n",
       " 'later': 58,\n",
       " 'girl': 37,\n",
       " 'left': 59,\n",
       " 'mess': 76,\n",
       " 'straight': 112,\n",
       " 'person': 90,\n",
       " 'men': 75,\n",
       " 'walks': 127,\n",
       " 'asks': 3,\n",
       " 'little': 63,\n",
       " 'languages': 57,\n",
       " 'great': 43,\n",
       " 'think': 119,\n",
       " 'won': 132,\n",
       " 'second': 104,\n",
       " 'sits': 106,\n",
       " 'woman': 131,\n",
       " 'thing': 118,\n",
       " 'worked': 135,\n",
       " 'drink': 28,\n",
       " 'clinton': 16,\n",
       " 'mechanical': 74,\n",
       " 'engineer': 31,\n",
       " 'problem': 91,\n",
       " 'll': 64,\n",
       " 'look': 66,\n",
       " 'ground': 44,\n",
       " 'fine': 35,\n",
       " 'takes': 114,\n",
       " 'beer': 9,\n",
       " 'beautiful': 8,\n",
       " 'looks': 68,\n",
       " 'room': 97,\n",
       " 'pass': 89,\n",
       " 'jewish': 54,\n",
       " 'tells': 117,\n",
       " 'teacher': 115,\n",
       " 'group': 45,\n",
       " 'oh': 84,\n",
       " 'voice': 126,\n",
       " 'head': 48,\n",
       " 'orders': 87,\n",
       " 'bartender': 7,\n",
       " 'know': 56,\n",
       " 'tell': 116,\n",
       " 'young': 139,\n",
       " 'sleeping': 108,\n",
       " 'mother': 80,\n",
       " 'sleep': 107,\n",
       " 'need': 81,\n",
       " 'change': 15,\n",
       " 'lightbulb': 61,\n",
       " 'husband': 53,\n",
       " 'years': 137,\n",
       " 'door': 27,\n",
       " 'company': 18,\n",
       " '30': 0,\n",
       " 'having': 47,\n",
       " 'took': 122,\n",
       " 'end': 30,\n",
       " 'paid': 88,\n",
       " 'students': 113,\n",
       " 'met': 77,\n",
       " 'love': 70,\n",
       " 'son': 109,\n",
       " 'time': 120,\n",
       " 'new': 82,\n",
       " 'away': 4,\n",
       " 'lot': 69,\n",
       " 'started': 111,\n",
       " 'recent': 93,\n",
       " 'gives': 38,\n",
       " 'hot': 52,\n",
       " 'went': 129}"
      ]
     },
     "execution_count": 21,
     "metadata": {},
     "output_type": "execute_result"
    }
   ],
   "source": [
    "vectorizer.vocabulary_"
   ]
  },
  {
   "cell_type": "code",
   "execution_count": 12,
   "id": "27b1cca9",
   "metadata": {},
   "outputs": [],
   "source": [
    "def normalize_document(doc):\n",
    "    wpt = nltk.WordPunctTokenizer()\n",
    "    stop_words = nltk.corpus.stopwords.words('english')\n",
    "    ps = nltk.stem.PorterStemmer()\n",
    "    # convert to lower case, and remove special characters and white space\n",
    "    doc = re.sub(r'[^a-zA-Z0-9_\\s]', '', doc, re.I)\n",
    "    doc = doc.lower()\n",
    "    doc = doc.strip()\n",
    "    # tokenize the document\n",
    "    tokens = wpt.tokenize(doc)\n",
    "    # remove stopwords\n",
    "    filtered_tokens = [token for token in tokens if (token not in stop_words and token not in [\".\"])]\n",
    "    # put the filtered document back together\n",
    "    doc = ' '.join([ps.stem(token) for token in filtered_tokens])\n",
    "    return doc"
   ]
  },
  {
   "cell_type": "code",
   "execution_count": 13,
   "id": "17a7eca7",
   "metadata": {},
   "outputs": [],
   "source": [
    "# use nltk stop words \n",
    "vectorizer2 = TfidfVectorizer(preprocessor=normalize_document, norm=None, max_df=0.8, min_df=3)"
   ]
  },
  {
   "cell_type": "code",
   "execution_count": 14,
   "id": "ab3f20ad",
   "metadata": {},
   "outputs": [
    {
     "data": {
      "text/plain": [
       "TfidfVectorizer(max_df=0.8, min_df=3, norm=None,\n",
       "                preprocessor=<function normalize_document at 0x28a01ddc0>)"
      ]
     },
     "execution_count": 14,
     "metadata": {},
     "output_type": "execute_result"
    }
   ],
   "source": [
    "vectorizer2.fit(jokes['text'])"
   ]
  },
  {
   "cell_type": "code",
   "execution_count": 15,
   "id": "05bfcb93",
   "metadata": {},
   "outputs": [
    {
     "data": {
      "text/plain": [
       "<100x186 sparse matrix of type '<class 'numpy.float64'>'\n",
       "\twith 1005 stored elements in Compressed Sparse Row format>"
      ]
     },
     "execution_count": 15,
     "metadata": {},
     "output_type": "execute_result"
    }
   ],
   "source": [
    "joke_mat2 = vectorizer2.transform(jokes['text'])\n",
    "joke_mat2"
   ]
  },
  {
   "cell_type": "code",
   "execution_count": 16,
   "id": "82a22b5c",
   "metadata": {},
   "outputs": [
    {
     "name": "stdout",
     "output_type": "stream",
     "text": [
      "['back' 'bad' 'bar' 'bartend' 'beauti' 'beer' 'big' 'bill' 'boy' 'breath']\n"
     ]
    },
    {
     "data": {
      "text/plain": [
       "{'man': 91,\n",
       " 'doctor': 38,\n",
       " 'say': 137,\n",
       " 'bad': 11,\n",
       " 'news': 107,\n",
       " 'repli': 130,\n",
       " 'well': 173,\n",
       " 'coupl': 32,\n",
       " 'go': 60,\n",
       " 'one': 113,\n",
       " 'day': 33,\n",
       " 'came': 23,\n",
       " 'home': 73,\n",
       " 'work': 181,\n",
       " 'find': 53,\n",
       " 'ask': 8,\n",
       " 'told': 163,\n",
       " 'thing': 157,\n",
       " 'could': 30,\n",
       " 'possibl': 122,\n",
       " 'said': 136,\n",
       " 'make': 90,\n",
       " 'big': 16,\n",
       " 'word': 180,\n",
       " 'year': 184,\n",
       " 'old': 112,\n",
       " 'what': 175,\n",
       " 'feet': 51,\n",
       " 'long': 86,\n",
       " 'differ': 37,\n",
       " 'around': 6,\n",
       " 'use': 169,\n",
       " 'bill': 17,\n",
       " 'hillari': 72,\n",
       " 'back': 10,\n",
       " 'pull': 125,\n",
       " 'run': 135,\n",
       " 'school': 138,\n",
       " 'car': 24,\n",
       " 'window': 178,\n",
       " 'good': 62,\n",
       " 'turn': 166,\n",
       " 'marri': 93,\n",
       " 'wife': 177,\n",
       " 'would': 182,\n",
       " 'presid': 123,\n",
       " 'mani': 92,\n",
       " 'take': 154,\n",
       " 'screw': 139,\n",
       " 'light': 82,\n",
       " 'funni': 56,\n",
       " 'hear': 70,\n",
       " 'countri': 31,\n",
       " 'guy': 67,\n",
       " 'goe': 61,\n",
       " 'bar': 12,\n",
       " 'demand': 35,\n",
       " 'got': 63,\n",
       " 'like': 83,\n",
       " 'return': 133,\n",
       " 'okay': 111,\n",
       " 'resourc': 131,\n",
       " 'come': 27,\n",
       " 'start': 149,\n",
       " 'anyth': 5,\n",
       " 'two': 167,\n",
       " 'eat': 42,\n",
       " 'someon': 146,\n",
       " 'seem': 142,\n",
       " 'look': 87,\n",
       " 'measur': 94,\n",
       " 'hell': 71,\n",
       " 'answer': 4,\n",
       " 'want': 172,\n",
       " 'everi': 46,\n",
       " 'morn': 100,\n",
       " 'father': 50,\n",
       " 'first': 55,\n",
       " 'love': 89,\n",
       " 'boy': 18,\n",
       " 'ye': 183,\n",
       " 'sir': 143,\n",
       " 'minut': 99,\n",
       " 'later': 80,\n",
       " 'girl': 58,\n",
       " 'left': 81,\n",
       " 'mess': 97,\n",
       " 'get': 57,\n",
       " 'straight': 151,\n",
       " 'person': 118,\n",
       " 'men': 96,\n",
       " 'bulb': 21,\n",
       " 'walk': 171,\n",
       " 'anoth': 3,\n",
       " 'respond': 132,\n",
       " 'littl': 84,\n",
       " 'speak': 148,\n",
       " 'three': 160,\n",
       " 'languag': 78,\n",
       " 'call': 22,\n",
       " 'tri': 165,\n",
       " 'american': 2,\n",
       " 'great': 64,\n",
       " 'think': 158,\n",
       " 'second': 140,\n",
       " 'sit': 144,\n",
       " 'next': 108,\n",
       " 'woman': 179,\n",
       " 'notic': 109,\n",
       " 'mechan': 95,\n",
       " 'open': 114,\n",
       " 'final': 52,\n",
       " 'drink': 41,\n",
       " 'clinton': 26,\n",
       " 'engin': 45,\n",
       " 'problem': 124,\n",
       " 'system': 153,\n",
       " 'ground': 65,\n",
       " 'everyth': 48,\n",
       " 'fine': 54,\n",
       " 'see': 141,\n",
       " 'hand': 68,\n",
       " 'place': 120,\n",
       " 'beer': 15,\n",
       " 'beauti': 14,\n",
       " 'build': 20,\n",
       " 'arriv': 7,\n",
       " 'room': 134,\n",
       " 'pass': 117,\n",
       " 'jewish': 76,\n",
       " 'must': 103,\n",
       " 'tell': 156,\n",
       " 'state': 150,\n",
       " 'teacher': 155,\n",
       " 'group': 66,\n",
       " 'upon': 168,\n",
       " 'oh': 110,\n",
       " 'voic': 170,\n",
       " 'head': 69,\n",
       " 'breath': 19,\n",
       " 'order': 115,\n",
       " 'know': 77,\n",
       " 'young': 185,\n",
       " 'sleep': 145,\n",
       " 'mother': 101,\n",
       " 'everyon': 47,\n",
       " 'die': 36,\n",
       " 'need': 104,\n",
       " 'chang': 25,\n",
       " 'question': 127,\n",
       " 'put': 126,\n",
       " 'live': 85,\n",
       " 'bartend': 13,\n",
       " 'husband': 75,\n",
       " 'decid': 34,\n",
       " 'door': 40,\n",
       " 'give': 59,\n",
       " 'compani': 28,\n",
       " '30': 0,\n",
       " 'dollar': 39,\n",
       " 'els': 43,\n",
       " 'took': 164,\n",
       " 'end': 44,\n",
       " 'receiv': 128,\n",
       " 'paid': 116,\n",
       " 'much': 102,\n",
       " 'student': 152,\n",
       " 'togeth': 162,\n",
       " 'thousand': 159,\n",
       " 'last': 79,\n",
       " 'actual': 1,\n",
       " 'met': 98,\n",
       " 'son': 147,\n",
       " 'time': 161,\n",
       " 'never': 105,\n",
       " 'new': 106,\n",
       " 'away': 9,\n",
       " 'lot': 88,\n",
       " 'fall': 49,\n",
       " 'recent': 129,\n",
       " 'phone': 119,\n",
       " 'whole': 176,\n",
       " 'hot': 74,\n",
       " 'complet': 29,\n",
       " 'posit': 121,\n",
       " 'went': 174}"
      ]
     },
     "execution_count": 16,
     "metadata": {},
     "output_type": "execute_result"
    }
   ],
   "source": [
    "features2 = vectorizer2.get_feature_names_out()\n",
    "print(features2[10:20])\n",
    "vectorizer2.vocabulary_"
   ]
  },
  {
   "cell_type": "markdown",
   "id": "f957956b",
   "metadata": {},
   "source": [
    "<font size =4>*Similarities between items and documents*"
   ]
  },
  {
   "cell_type": "code",
   "execution_count": 22,
   "id": "f89f4f2d",
   "metadata": {},
   "outputs": [
    {
     "data": {
      "text/plain": [
       "(100, 100)"
      ]
     },
     "execution_count": 22,
     "metadata": {},
     "output_type": "execute_result"
    }
   ],
   "source": [
    "from sklearn.metrics.pairwise import cosine_similarity\n",
    "sim_mat = cosine_similarity(joke_mat2)\n",
    "sim_mat.shape"
   ]
  },
  {
   "cell_type": "code",
   "execution_count": 23,
   "id": "a9bd7397",
   "metadata": {},
   "outputs": [
    {
     "name": "stdout",
     "output_type": "stream",
     "text": [
      "[[1.   0.03 0.   0.16 0.   0.04 0.   0.   0.02 0.04 ... 0.   0.   0.09 0.12 0.   0.   0.02 0.   0.   0.  ]\n",
      " [0.03 1.   0.   0.   0.   0.07 0.   0.   0.   0.03 ... 0.01 0.11 0.16 0.06 0.   0.14 0.11 0.   0.18 0.04]\n",
      " [0.   0.   1.   0.23 0.51 0.   0.   0.   0.   0.   ... 0.   0.   0.   0.   0.   0.   0.   0.   0.   0.25]\n",
      " [0.16 0.   0.23 1.   0.45 0.   0.   0.   0.11 0.   ... 0.   0.   0.   0.   0.   0.   0.13 0.   0.   0.4 ]\n",
      " [0.   0.   0.51 0.45 1.   0.   0.   0.   0.   0.   ... 0.   0.   0.   0.   0.   0.   0.   0.   0.   0.49]\n",
      " [0.04 0.07 0.   0.   0.   1.   0.   0.   0.06 0.1  ... 0.13 0.11 0.12 0.08 0.   0.   0.02 0.   0.   0.  ]\n",
      " [0.   0.   0.   0.   0.   0.   1.   0.   0.   0.27 ... 0.   0.   0.   0.   0.   0.   0.   0.   0.   0.  ]\n",
      " [0.   0.   0.   0.   0.   0.   0.   1.   0.   0.   ... 0.   0.   0.   0.   0.   0.   0.   0.   0.   0.  ]\n",
      " [0.02 0.   0.   0.11 0.   0.06 0.   0.   1.   0.03 ... 0.09 0.02 0.13 0.04 0.   0.04 0.01 0.2  0.   0.  ]\n",
      " [0.04 0.03 0.   0.   0.   0.1  0.27 0.   0.03 1.   ... 0.21 0.18 0.05 0.26 0.   0.44 0.12 0.   0.   0.08]\n",
      " ...\n",
      " [0.   0.01 0.   0.   0.   0.13 0.   0.   0.09 0.21 ... 1.   0.02 0.02 0.06 0.06 0.3  0.01 0.   0.   0.03]\n",
      " [0.   0.11 0.   0.   0.   0.11 0.   0.   0.02 0.18 ... 0.02 1.   0.02 0.18 0.   0.2  0.1  0.03 0.   0.05]\n",
      " [0.09 0.16 0.   0.   0.   0.12 0.   0.   0.13 0.05 ... 0.02 0.02 1.   0.1  0.   0.1  0.02 0.04 0.   0.  ]\n",
      " [0.12 0.06 0.   0.   0.   0.08 0.   0.   0.04 0.26 ... 0.06 0.18 0.1  1.   0.13 0.12 0.34 0.   0.   0.06]\n",
      " [0.   0.   0.   0.   0.   0.   0.   0.   0.   0.   ... 0.06 0.   0.   0.13 1.   0.   0.   0.   0.   0.  ]\n",
      " [0.   0.14 0.   0.   0.   0.   0.   0.   0.04 0.44 ... 0.3  0.2  0.1  0.12 0.   1.   0.08 0.   0.   0.  ]\n",
      " [0.02 0.11 0.   0.13 0.   0.02 0.   0.   0.01 0.12 ... 0.01 0.1  0.02 0.34 0.   0.08 1.   0.   0.   0.11]\n",
      " [0.   0.   0.   0.   0.   0.   0.   0.   0.2  0.   ... 0.   0.03 0.04 0.   0.   0.   0.   1.   0.   0.  ]\n",
      " [0.   0.18 0.   0.   0.   0.   0.   0.   0.   0.   ... 0.   0.   0.   0.   0.   0.   0.   0.   1.   0.  ]\n",
      " [0.   0.04 0.25 0.4  0.49 0.   0.   0.   0.   0.08 ... 0.03 0.05 0.   0.06 0.   0.   0.11 0.   0.   1.  ]]\n"
     ]
    }
   ],
   "source": [
    "np.set_printoptions(linewidth=120, precision=2, edgeitems=10)\n",
    "print(sim_mat)"
   ]
  },
  {
   "cell_type": "markdown",
   "id": "b99a8abd",
   "metadata": {},
   "source": [
    "### 1b"
   ]
  },
  {
   "cell_type": "markdown",
   "id": "49a07472",
   "metadata": {},
   "source": [
    "Create a non-personalized recommender that, given a target/query item, returns the top k most similar items to the target item. Your function/program should use as input a pre-computed item-item similarity matrix, with Cosine similarity as metric, based on feature representations of items. Your recommender should output the texts of the query joke and the top k recommended jokes along with the similarity values to the query joke. Show the output of your recommender on jokes 19 and 46.\n",
    "\n"
   ]
  },
  {
   "cell_type": "markdown",
   "id": "52995056",
   "metadata": {},
   "source": [
    "### The non-personalized recommender"
   ]
  },
  {
   "cell_type": "code",
   "execution_count": 59,
   "id": "0573f42d",
   "metadata": {},
   "outputs": [],
   "source": [
    "def content_based_recommender(dataMat, simMat, item, k):\n",
    "    '''dataMat = items Data Frame\n",
    "       simMat  = similarity matrix \n",
    "       item    = target item index\n",
    "       k       = top k most similar items'''\n",
    "    if k <= simMat.shape[0]:\n",
    "        sims = simMat[item,:]\n",
    "        idx = np.argsort(sims)\n",
    "        idx = idx[::-1]\n",
    "        idx = np.array([i for i in idx if i != item])\n",
    "        # top k items' index and similarities \n",
    "        # Descending order\n",
    "        neigh_idx = idx[:k]\n",
    "        neigh_sims = sims[neigh_idx]\n",
    "        res = pd.DataFrame(columns=['Item index','Similarity','Item'])\n",
    "    \n",
    "        for i in range(k):\n",
    "            res.loc[i]= [neigh_idx[i] , neigh_sims[i] , dataMat.iloc[neigh_idx[i]][0]]\n",
    "            \n",
    "        print('The query joke is No.{}:\\n{}'.format(item, dataMat.iloc[item][0]))\n",
    "    else: print('k cannot be bigger than total number of items') \n",
    "      \n",
    "    return res"
   ]
  },
  {
   "cell_type": "markdown",
   "id": "a38ce37f",
   "metadata": {},
   "source": [
    "### Results for Joke No.19"
   ]
  },
  {
   "cell_type": "code",
   "execution_count": 60,
   "id": "eb5b0f94",
   "metadata": {},
   "outputs": [
    {
     "name": "stdout",
     "output_type": "stream",
     "text": [
      "The query joke is No.19:\n",
      "What's the difference between a MacIntosh and anEtch-A-Sketch? You don't have to shake the Mac to clear the screen.\n"
     ]
    },
    {
     "data": {
      "text/html": [
       "<div>\n",
       "<style scoped>\n",
       "    .dataframe tbody tr th:only-of-type {\n",
       "        vertical-align: middle;\n",
       "    }\n",
       "\n",
       "    .dataframe tbody tr th {\n",
       "        vertical-align: top;\n",
       "    }\n",
       "\n",
       "    .dataframe thead th {\n",
       "        text-align: right;\n",
       "    }\n",
       "</style>\n",
       "<table border=\"1\" class=\"dataframe\">\n",
       "  <thead>\n",
       "    <tr style=\"text-align: right;\">\n",
       "      <th></th>\n",
       "      <th>Item index</th>\n",
       "      <th>Similarity</th>\n",
       "      <th>Item</th>\n",
       "    </tr>\n",
       "  </thead>\n",
       "  <tbody>\n",
       "    <tr>\n",
       "      <th>0</th>\n",
       "      <td>77</td>\n",
       "      <td>0.91</td>\n",
       "      <td>Q: What's the difference between the government  and  the Mafia? A: One of them is organized.</td>\n",
       "    </tr>\n",
       "    <tr>\n",
       "      <th>1</th>\n",
       "      <td>4</td>\n",
       "      <td>0.75</td>\n",
       "      <td>Q. What's O. J. Simpson's Internet address? A.\\tSlash slash backslash slash slash escape.</td>\n",
       "    </tr>\n",
       "    <tr>\n",
       "      <th>2</th>\n",
       "      <td>29</td>\n",
       "      <td>0.66</td>\n",
       "      <td>Q: What's the difference between a Lawyer and a Plumber? A: A Plumber works to unclog the system.</td>\n",
       "    </tr>\n",
       "    <tr>\n",
       "      <th>3</th>\n",
       "      <td>99</td>\n",
       "      <td>0.65</td>\n",
       "      <td>Q: What's the difference between greeting a Queen and greeting thePresident of the United  States?A: You only have to get on one knee to...</td>\n",
       "    </tr>\n",
       "    <tr>\n",
       "      <th>4</th>\n",
       "      <td>3</td>\n",
       "      <td>0.61</td>\n",
       "      <td>Q. What's the difference between a man and a toilet? A. A toilet doesn't follow you around after you use it.</td>\n",
       "    </tr>\n",
       "    <tr>\n",
       "      <th>5</th>\n",
       "      <td>20</td>\n",
       "      <td>0.47</td>\n",
       "      <td>What's the difference between a used tire and 365 used condoms?One's a Goodyear the other's a great year.</td>\n",
       "    </tr>\n",
       "    <tr>\n",
       "      <th>6</th>\n",
       "      <td>2</td>\n",
       "      <td>0.38</td>\n",
       "      <td>Q. What's 200 feet long and has 4 teeth? A. The front row at a Willie Nelson Concert.</td>\n",
       "    </tr>\n",
       "    <tr>\n",
       "      <th>7</th>\n",
       "      <td>72</td>\n",
       "      <td>0.37</td>\n",
       "      <td>Q: What is the difference between George  Washington Richard Nixon and Bill Clinton? A: Washington couldn't tell a lie Nixon couldn't   ...</td>\n",
       "    </tr>\n",
       "    <tr>\n",
       "      <th>8</th>\n",
       "      <td>74</td>\n",
       "      <td>0.33</td>\n",
       "      <td>Q: Do you know the difference between an intelligent male and theSasquatch? A: There have been actual reported sightings of the Sasquatch.</td>\n",
       "    </tr>\n",
       "    <tr>\n",
       "      <th>9</th>\n",
       "      <td>38</td>\n",
       "      <td>0.13</td>\n",
       "      <td>What is the difference between men and women:A woman wants one man to satisfy her every need.A man wants every woman to satisfy his one ...</td>\n",
       "    </tr>\n",
       "  </tbody>\n",
       "</table>\n",
       "</div>"
      ],
      "text/plain": [
       "  Item index  Similarity  \\\n",
       "0         77        0.91   \n",
       "1          4        0.75   \n",
       "2         29        0.66   \n",
       "3         99        0.65   \n",
       "4          3        0.61   \n",
       "5         20        0.47   \n",
       "6          2        0.38   \n",
       "7         72        0.37   \n",
       "8         74        0.33   \n",
       "9         38        0.13   \n",
       "\n",
       "                                                                                                                                          Item  \n",
       "0                                                Q: What's the difference between the government  and  the Mafia? A: One of them is organized.  \n",
       "1                                                    Q. What's O. J. Simpson's Internet address? A.\\tSlash slash backslash slash slash escape.  \n",
       "2                                            Q: What's the difference between a Lawyer and a Plumber? A: A Plumber works to unclog the system.  \n",
       "3  Q: What's the difference between greeting a Queen and greeting thePresident of the United  States?A: You only have to get on one knee to...  \n",
       "4                                 Q. What's the difference between a man and a toilet? A. A toilet doesn't follow you around after you use it.  \n",
       "5                                    What's the difference between a used tire and 365 used condoms?One's a Goodyear the other's a great year.  \n",
       "6                                                        Q. What's 200 feet long and has 4 teeth? A. The front row at a Willie Nelson Concert.  \n",
       "7  Q: What is the difference between George  Washington Richard Nixon and Bill Clinton? A: Washington couldn't tell a lie Nixon couldn't   ...  \n",
       "8   Q: Do you know the difference between an intelligent male and theSasquatch? A: There have been actual reported sightings of the Sasquatch.  \n",
       "9  What is the difference between men and women:A woman wants one man to satisfy her every need.A man wants every woman to satisfy his one ...  "
      ]
     },
     "execution_count": 60,
     "metadata": {},
     "output_type": "execute_result"
    }
   ],
   "source": [
    "content_based_recommender(jokes,sim_mat,19,10)"
   ]
  },
  {
   "cell_type": "markdown",
   "id": "a0072d8f",
   "metadata": {},
   "source": [
    "### Results for Joke No. 46"
   ]
  },
  {
   "cell_type": "code",
   "execution_count": 64,
   "id": "08d8e0ec",
   "metadata": {},
   "outputs": [
    {
     "name": "stdout",
     "output_type": "stream",
     "text": [
      "The query joke is No.19:\n",
      "What's the difference between a MacIntosh and anEtch-A-Sketch? You don't have to shake the Mac to clear the screen.\n"
     ]
    },
    {
     "data": {
      "text/html": [
       "<style type=\"text/css\">\n",
       "#T_ba8d3_row0_col0, #T_ba8d3_row0_col1, #T_ba8d3_row0_col2, #T_ba8d3_row1_col0, #T_ba8d3_row1_col1, #T_ba8d3_row1_col2, #T_ba8d3_row2_col0, #T_ba8d3_row2_col1, #T_ba8d3_row2_col2, #T_ba8d3_row3_col0, #T_ba8d3_row3_col1, #T_ba8d3_row3_col2, #T_ba8d3_row4_col0, #T_ba8d3_row4_col1, #T_ba8d3_row4_col2, #T_ba8d3_row5_col0, #T_ba8d3_row5_col1, #T_ba8d3_row5_col2, #T_ba8d3_row6_col0, #T_ba8d3_row6_col1, #T_ba8d3_row6_col2, #T_ba8d3_row7_col0, #T_ba8d3_row7_col1, #T_ba8d3_row7_col2, #T_ba8d3_row8_col0, #T_ba8d3_row8_col1, #T_ba8d3_row8_col2, #T_ba8d3_row9_col0, #T_ba8d3_row9_col1, #T_ba8d3_row9_col2 {\n",
       "  text-align: left;\n",
       "}\n",
       "</style>\n",
       "<table id=\"T_ba8d3_\">\n",
       "  <thead>\n",
       "    <tr>\n",
       "      <th class=\"blank level0\" >&nbsp;</th>\n",
       "      <th class=\"col_heading level0 col0\" >Item index</th>\n",
       "      <th class=\"col_heading level0 col1\" >Similarity</th>\n",
       "      <th class=\"col_heading level0 col2\" >Item</th>\n",
       "    </tr>\n",
       "  </thead>\n",
       "  <tbody>\n",
       "    <tr>\n",
       "      <th id=\"T_ba8d3_level0_row0\" class=\"row_heading level0 row0\" >0</th>\n",
       "      <td id=\"T_ba8d3_row0_col0\" class=\"data row0 col0\" >77</td>\n",
       "      <td id=\"T_ba8d3_row0_col1\" class=\"data row0 col1\" >0.91</td>\n",
       "      <td id=\"T_ba8d3_row0_col2\" class=\"data row0 col2\" >Q: What's the difference between the government  and  the Mafia? A: One of them is organized.</td>\n",
       "    </tr>\n",
       "    <tr>\n",
       "      <th id=\"T_ba8d3_level0_row1\" class=\"row_heading level0 row1\" >1</th>\n",
       "      <td id=\"T_ba8d3_row1_col0\" class=\"data row1 col0\" >4</td>\n",
       "      <td id=\"T_ba8d3_row1_col1\" class=\"data row1 col1\" >0.75</td>\n",
       "      <td id=\"T_ba8d3_row1_col2\" class=\"data row1 col2\" >Q. What's O. J. Simpson's Internet address? A.\tSlash slash backslash slash slash escape.</td>\n",
       "    </tr>\n",
       "    <tr>\n",
       "      <th id=\"T_ba8d3_level0_row2\" class=\"row_heading level0 row2\" >2</th>\n",
       "      <td id=\"T_ba8d3_row2_col0\" class=\"data row2 col0\" >29</td>\n",
       "      <td id=\"T_ba8d3_row2_col1\" class=\"data row2 col1\" >0.66</td>\n",
       "      <td id=\"T_ba8d3_row2_col2\" class=\"data row2 col2\" >Q: What's the difference between a Lawyer and a Plumber? A: A Plumber works to unclog the system.</td>\n",
       "    </tr>\n",
       "    <tr>\n",
       "      <th id=\"T_ba8d3_level0_row3\" class=\"row_heading level0 row3\" >3</th>\n",
       "      <td id=\"T_ba8d3_row3_col0\" class=\"data row3 col0\" >99</td>\n",
       "      <td id=\"T_ba8d3_row3_col1\" class=\"data row3 col1\" >0.65</td>\n",
       "      <td id=\"T_ba8d3_row3_col2\" class=\"data row3 col2\" >Q: What's the difference between greeting a Queen and greeting thePresident of the United  States?A: You only have to get on one knee to greet the queen.</td>\n",
       "    </tr>\n",
       "    <tr>\n",
       "      <th id=\"T_ba8d3_level0_row4\" class=\"row_heading level0 row4\" >4</th>\n",
       "      <td id=\"T_ba8d3_row4_col0\" class=\"data row4 col0\" >3</td>\n",
       "      <td id=\"T_ba8d3_row4_col1\" class=\"data row4 col1\" >0.61</td>\n",
       "      <td id=\"T_ba8d3_row4_col2\" class=\"data row4 col2\" >Q. What's the difference between a man and a toilet? A. A toilet doesn't follow you around after you use it.</td>\n",
       "    </tr>\n",
       "    <tr>\n",
       "      <th id=\"T_ba8d3_level0_row5\" class=\"row_heading level0 row5\" >5</th>\n",
       "      <td id=\"T_ba8d3_row5_col0\" class=\"data row5 col0\" >20</td>\n",
       "      <td id=\"T_ba8d3_row5_col1\" class=\"data row5 col1\" >0.47</td>\n",
       "      <td id=\"T_ba8d3_row5_col2\" class=\"data row5 col2\" >What's the difference between a used tire and 365 used condoms?One's a Goodyear the other's a great year.</td>\n",
       "    </tr>\n",
       "    <tr>\n",
       "      <th id=\"T_ba8d3_level0_row6\" class=\"row_heading level0 row6\" >6</th>\n",
       "      <td id=\"T_ba8d3_row6_col0\" class=\"data row6 col0\" >2</td>\n",
       "      <td id=\"T_ba8d3_row6_col1\" class=\"data row6 col1\" >0.38</td>\n",
       "      <td id=\"T_ba8d3_row6_col2\" class=\"data row6 col2\" >Q. What's 200 feet long and has 4 teeth? A. The front row at a Willie Nelson Concert.</td>\n",
       "    </tr>\n",
       "    <tr>\n",
       "      <th id=\"T_ba8d3_level0_row7\" class=\"row_heading level0 row7\" >7</th>\n",
       "      <td id=\"T_ba8d3_row7_col0\" class=\"data row7 col0\" >72</td>\n",
       "      <td id=\"T_ba8d3_row7_col1\" class=\"data row7 col1\" >0.37</td>\n",
       "      <td id=\"T_ba8d3_row7_col2\" class=\"data row7 col2\" >Q: What is the difference between George  Washington Richard Nixon and Bill Clinton? A: Washington couldn't tell a lie Nixon couldn't   tell the truth andClinton doesn't know the difference.</td>\n",
       "    </tr>\n",
       "    <tr>\n",
       "      <th id=\"T_ba8d3_level0_row8\" class=\"row_heading level0 row8\" >8</th>\n",
       "      <td id=\"T_ba8d3_row8_col0\" class=\"data row8 col0\" >74</td>\n",
       "      <td id=\"T_ba8d3_row8_col1\" class=\"data row8 col1\" >0.33</td>\n",
       "      <td id=\"T_ba8d3_row8_col2\" class=\"data row8 col2\" >Q: Do you know the difference between an intelligent male and theSasquatch? A: There have been actual reported sightings of the Sasquatch.</td>\n",
       "    </tr>\n",
       "    <tr>\n",
       "      <th id=\"T_ba8d3_level0_row9\" class=\"row_heading level0 row9\" >9</th>\n",
       "      <td id=\"T_ba8d3_row9_col0\" class=\"data row9 col0\" >38</td>\n",
       "      <td id=\"T_ba8d3_row9_col1\" class=\"data row9 col1\" >0.13</td>\n",
       "      <td id=\"T_ba8d3_row9_col2\" class=\"data row9 col2\" >What is the difference between men and women:A woman wants one man to satisfy her every need.A man wants every woman to satisfy his one need.</td>\n",
       "    </tr>\n",
       "  </tbody>\n",
       "</table>\n"
      ],
      "text/plain": [
       "<pandas.io.formats.style.Styler at 0x28a31fc70>"
      ]
     },
     "execution_count": 64,
     "metadata": {},
     "output_type": "execute_result"
    }
   ],
   "source": [
    "a = content_based_recommender(jokes,sim_mat,19,10)\n",
    "a\n",
    "pd.options.display.max_colwidth = 130\n",
    "a.style.set_properties(**{'text-align': 'left'})"
   ]
  },
  {
   "cell_type": "code",
   "execution_count": 57,
   "id": "c28b5f17",
   "metadata": {},
   "outputs": [
    {
     "name": "stdout",
     "output_type": "stream",
     "text": [
      "The query joke is No.46:\n",
      "There was an engineer who had an exceptional gift for fixing all things mechanical.  After serving his company loyally for over 30 years he happily retired.  Several years later the company contacted him regarding a seemingly impossible problem they were having with one of their multi-million dollar machines. They had tried everything and everyone else to get the machine fixed but to no avail.  In desperation they called on the retired engineer who had solved so many of their problems in the past.The engineer reluctantly took the challenge.  He spent a day studying the huge machine.  At the end of the day he marked a small \"x\" in chalk on a particular component of the machine and proudly stated \"This is where your problem is\".The part was replaced and the machine worked perfectly again. The company received a bill for $50000 from the engineer for his service.They demanded an itemized accounting of his charges. The engineer responded briefly:One chalk mark                       $1 Knowing where to put it            $49999It was paid in full and the engineer retired again in peace.\n"
     ]
    },
    {
     "data": {
      "text/html": [
       "<div>\n",
       "<style scoped>\n",
       "    .dataframe tbody tr th:only-of-type {\n",
       "        vertical-align: middle;\n",
       "    }\n",
       "\n",
       "    .dataframe tbody tr th {\n",
       "        vertical-align: top;\n",
       "    }\n",
       "\n",
       "    .dataframe thead th {\n",
       "        text-align: right;\n",
       "    }\n",
       "</style>\n",
       "<table border=\"1\" class=\"dataframe\">\n",
       "  <thead>\n",
       "    <tr style=\"text-align: right;\">\n",
       "      <th></th>\n",
       "      <th>Item index</th>\n",
       "      <th>Similarity</th>\n",
       "      <th>Item</th>\n",
       "    </tr>\n",
       "  </thead>\n",
       "  <tbody>\n",
       "    <tr>\n",
       "      <th>0</th>\n",
       "      <td>83</td>\n",
       "      <td>0.50</td>\n",
       "      <td>Q: What is the difference between Mechanical Engineers and Civil Engineers? A: Mechanical Engineers build weapons Civil Engineers build ...</td>\n",
       "    </tr>\n",
       "    <tr>\n",
       "      <th>1</th>\n",
       "      <td>92</td>\n",
       "      <td>0.49</td>\n",
       "      <td>Reaching the end of a job interview the human resources person asked a young engineer fresh out of Stanford\"And what starting salary wer...</td>\n",
       "    </tr>\n",
       "    <tr>\n",
       "      <th>2</th>\n",
       "      <td>27</td>\n",
       "      <td>0.47</td>\n",
       "      <td>A mechanical electrical and a software engineer from Microsoft were driving through the desert when the car broke down. The mechanical e...</td>\n",
       "    </tr>\n",
       "    <tr>\n",
       "      <th>3</th>\n",
       "      <td>48</td>\n",
       "      <td>0.43</td>\n",
       "      <td>Three engineering students were gathered together discussing the possible designers of the human body.  One said \"It was a mechanical en...</td>\n",
       "    </tr>\n",
       "    <tr>\n",
       "      <th>4</th>\n",
       "      <td>61</td>\n",
       "      <td>0.28</td>\n",
       "      <td>A group of  managers were given the assignment to measure the height of a flagpole. So they go out to the flagpole with ladders and tape...</td>\n",
       "    </tr>\n",
       "    <tr>\n",
       "      <th>5</th>\n",
       "      <td>89</td>\n",
       "      <td>0.24</td>\n",
       "      <td>Q: How many programmers does it take to change a lightbulb?A: NONE!   That's a hardware problem....</td>\n",
       "    </tr>\n",
       "    <tr>\n",
       "      <th>6</th>\n",
       "      <td>70</td>\n",
       "      <td>0.23</td>\n",
       "      <td>At a recent Sacramento PC Users Group meeting a company was demonstrating its latest speech-recognition software.   A representative fro...</td>\n",
       "    </tr>\n",
       "    <tr>\n",
       "      <th>7</th>\n",
       "      <td>47</td>\n",
       "      <td>0.20</td>\n",
       "      <td>The graduate with a Science degree asks \"Why does it work?\"The graduate with an Engineering degree asks \"How does it work?\"The graduate ...</td>\n",
       "    </tr>\n",
       "    <tr>\n",
       "      <th>8</th>\n",
       "      <td>62</td>\n",
       "      <td>0.15</td>\n",
       "      <td>An engineer a physicist and a mathematician are sleeping in a room. There is a fire in the room. The engineer wakes up sees the firepick...</td>\n",
       "    </tr>\n",
       "    <tr>\n",
       "      <th>9</th>\n",
       "      <td>54</td>\n",
       "      <td>0.15</td>\n",
       "      <td>A woman has twins and gives them up for adoption.  One of them goes to a family in Egypt and is named \"Amal.\"  The other goes to a  fami...</td>\n",
       "    </tr>\n",
       "  </tbody>\n",
       "</table>\n",
       "</div>"
      ],
      "text/plain": [
       "  Item index  Similarity  \\\n",
       "0         83        0.50   \n",
       "1         92        0.49   \n",
       "2         27        0.47   \n",
       "3         48        0.43   \n",
       "4         61        0.28   \n",
       "5         89        0.24   \n",
       "6         70        0.23   \n",
       "7         47        0.20   \n",
       "8         62        0.15   \n",
       "9         54        0.15   \n",
       "\n",
       "                                                                                                                                          Item  \n",
       "0  Q: What is the difference between Mechanical Engineers and Civil Engineers? A: Mechanical Engineers build weapons Civil Engineers build ...  \n",
       "1  Reaching the end of a job interview the human resources person asked a young engineer fresh out of Stanford\"And what starting salary wer...  \n",
       "2  A mechanical electrical and a software engineer from Microsoft were driving through the desert when the car broke down. The mechanical e...  \n",
       "3  Three engineering students were gathered together discussing the possible designers of the human body.  One said \"It was a mechanical en...  \n",
       "4  A group of  managers were given the assignment to measure the height of a flagpole. So they go out to the flagpole with ladders and tape...  \n",
       "5                                          Q: How many programmers does it take to change a lightbulb?A: NONE!   That's a hardware problem....  \n",
       "6  At a recent Sacramento PC Users Group meeting a company was demonstrating its latest speech-recognition software.   A representative fro...  \n",
       "7  The graduate with a Science degree asks \"Why does it work?\"The graduate with an Engineering degree asks \"How does it work?\"The graduate ...  \n",
       "8  An engineer a physicist and a mathematician are sleeping in a room. There is a fire in the room. The engineer wakes up sees the firepick...  \n",
       "9  A woman has twins and gives them up for adoption.  One of them goes to a family in Egypt and is named \"Amal.\"  The other goes to a  fami...  "
      ]
     },
     "execution_count": 57,
     "metadata": {},
     "output_type": "execute_result"
    }
   ],
   "source": [
    "content_based_recommender(jokes,sim_mat,46,10)"
   ]
  },
  {
   "cell_type": "markdown",
   "id": "e08357e8",
   "metadata": {},
   "source": [
    "### 1c\n"
   ]
  },
  {
   "cell_type": "markdown",
   "id": "f7675803",
   "metadata": {},
   "source": [
    "For a personalized version of the content-based recommendation, you'll need to create user profiles for each user based on their past ratings on jokes. Use the following procedure for creating user profiles.\n",
    "\n",
    "<br>&emsp;· We are going to assume that \"liked\" items by a user u are those jokes whose rating by u is greater than u's mean rating on all jokes rated by u (note that zeros don't count as ratings). These are the jokes from which user profiles for each user will be constructed. So, for each user you need to collect all jokes that satisfy this condition.\n",
    "\n",
    "<br>&emsp;· Split the liked items for each user into a training and a test portions. Normally, we would use random splits, however, for consistency across different answers, in this case you should select the first half of items as the user profile to be used for training, and the second half to be set aside for testing purposes. For each user, you should maintain a list of indices of the items in the user profile (the known \"liked\" items used for training) as well as indices of items in the test portion of user's record (the withheld test \"liked\" items).\n",
    "\n",
    "<br>&emsp;· Convert the user profiles for all users (this is the training portion of liked items you selected earlier) into feature vectors over the feature set created in 1(a). These vectors will be used as representations of user profiles to compute similarities with items"
   ]
  },
  {
   "cell_type": "markdown",
   "id": "67b5e0c3",
   "metadata": {},
   "source": [
    "### Personalized version of the content-based recommender"
   ]
  },
  {
   "cell_type": "code",
   "execution_count": 123,
   "id": "8922a69b",
   "metadata": {},
   "outputs": [],
   "source": [
    "r = pd.DataFrame(rate)"
   ]
  },
  {
   "cell_type": "markdown",
   "id": "9cd47450",
   "metadata": {},
   "source": [
    "<font size=4>*Here I set half of users' joke as floor division of 2, this will lead to the test set slightly larger than trian set since the odd number of ratings will create an uneven split.*"
   ]
  },
  {
   "cell_type": "code",
   "execution_count": 130,
   "id": "69c1eee0",
   "metadata": {},
   "outputs": [
    {
     "name": "stdout",
     "output_type": "stream",
     "text": [
      "\n"
     ]
    }
   ],
   "source": [
    "# users' mean rating value for all none 0 ratings \n",
    "m  = r.sum(axis=1)/(r != 0).sum(axis=1)"
   ]
  },
  {
   "cell_type": "code",
   "execution_count": 189,
   "id": "fb0c62fe",
   "metadata": {},
   "outputs": [],
   "source": [
    "u_train = pd.DataFrame() \n",
    "u_test = pd.DataFrame() \n",
    "# For each (user,joke) pair, take valid position's indices \n",
    "# In this 2D List, 1st column is user id, 2nd column is joke id\n",
    "for i in range(1000):\n",
    "    u = []\n",
    "    for j in range(100):\n",
    "        if r[j][i] > m[i]:\n",
    "            u.append([i,j]) \n",
    "    z = len(u)//2\n",
    "    u_train = u_train.append(u[:z])\n",
    "    u_test = u_test.append(u[z:])\n",
    "\n",
    "u_train.rename({0: 'User ID',1 : 'Joke ID'}, axis=1, inplace=True)\n",
    "u_test.rename({0: 'User ID',1 : 'Joke ID'}, axis=1, inplace=True)"
   ]
  },
  {
   "cell_type": "code",
   "execution_count": 192,
   "id": "135c8ac8",
   "metadata": {},
   "outputs": [],
   "source": [
    "j = jokes.reset_index(inplace=False).rename(columns = {'index':'Joke ID'})"
   ]
  },
  {
   "cell_type": "code",
   "execution_count": 194,
   "id": "24c2bddb",
   "metadata": {},
   "outputs": [
    {
     "data": {
      "text/html": [
       "<div>\n",
       "<style scoped>\n",
       "    .dataframe tbody tr th:only-of-type {\n",
       "        vertical-align: middle;\n",
       "    }\n",
       "\n",
       "    .dataframe tbody tr th {\n",
       "        vertical-align: top;\n",
       "    }\n",
       "\n",
       "    .dataframe thead th {\n",
       "        text-align: right;\n",
       "    }\n",
       "</style>\n",
       "<table border=\"1\" class=\"dataframe\">\n",
       "  <thead>\n",
       "    <tr style=\"text-align: right;\">\n",
       "      <th></th>\n",
       "      <th>User ID</th>\n",
       "      <th>Joke ID</th>\n",
       "      <th>text</th>\n",
       "    </tr>\n",
       "  </thead>\n",
       "  <tbody>\n",
       "    <tr>\n",
       "      <th>0</th>\n",
       "      <td>0</td>\n",
       "      <td>1</td>\n",
       "      <td>This couple had an excellent relationship going until one day he came home from work to find his girlfriend packing. He asked ...</td>\n",
       "    </tr>\n",
       "    <tr>\n",
       "      <th>1</th>\n",
       "      <td>3</td>\n",
       "      <td>1</td>\n",
       "      <td>This couple had an excellent relationship going until one day he came home from work to find his girlfriend packing. He asked ...</td>\n",
       "    </tr>\n",
       "    <tr>\n",
       "      <th>2</th>\n",
       "      <td>4</td>\n",
       "      <td>1</td>\n",
       "      <td>This couple had an excellent relationship going until one day he came home from work to find his girlfriend packing. He asked ...</td>\n",
       "    </tr>\n",
       "    <tr>\n",
       "      <th>3</th>\n",
       "      <td>5</td>\n",
       "      <td>1</td>\n",
       "      <td>This couple had an excellent relationship going until one day he came home from work to find his girlfriend packing. He asked ...</td>\n",
       "    </tr>\n",
       "    <tr>\n",
       "      <th>4</th>\n",
       "      <td>7</td>\n",
       "      <td>1</td>\n",
       "      <td>This couple had an excellent relationship going until one day he came home from work to find his girlfriend packing. He asked ...</td>\n",
       "    </tr>\n",
       "    <tr>\n",
       "      <th>...</th>\n",
       "      <td>...</td>\n",
       "      <td>...</td>\n",
       "      <td>...</td>\n",
       "    </tr>\n",
       "    <tr>\n",
       "      <th>19003</th>\n",
       "      <td>593</td>\n",
       "      <td>79</td>\n",
       "      <td>Hillary Bill Clinton and the Pope are sitting together on an airplane. Bill says \"I could throw one thousand dollar bill out o...</td>\n",
       "    </tr>\n",
       "    <tr>\n",
       "      <th>19004</th>\n",
       "      <td>593</td>\n",
       "      <td>82</td>\n",
       "      <td>What a woman says:\"This place is a mess!  C'monYou and I need to clean upYour stuff is lying on the floor and you'll have no c...</td>\n",
       "    </tr>\n",
       "    <tr>\n",
       "      <th>19005</th>\n",
       "      <td>600</td>\n",
       "      <td>82</td>\n",
       "      <td>What a woman says:\"This place is a mess!  C'monYou and I need to clean upYour stuff is lying on the floor and you'll have no c...</td>\n",
       "    </tr>\n",
       "    <tr>\n",
       "      <th>19006</th>\n",
       "      <td>593</td>\n",
       "      <td>85</td>\n",
       "      <td>A neutron walks into a bar and orders a drink.\"How much do I owe you?\" the neutron asks.The bartender replies \"for you no char...</td>\n",
       "    </tr>\n",
       "    <tr>\n",
       "      <th>19007</th>\n",
       "      <td>600</td>\n",
       "      <td>83</td>\n",
       "      <td>Q: What is the difference between Mechanical Engineers and Civil Engineers? A: Mechanical Engineers build weapons Civil Engine...</td>\n",
       "    </tr>\n",
       "  </tbody>\n",
       "</table>\n",
       "<p>19008 rows × 3 columns</p>\n",
       "</div>"
      ],
      "text/plain": [
       "       User ID  Joke ID  \\\n",
       "0            0        1   \n",
       "1            3        1   \n",
       "2            4        1   \n",
       "3            5        1   \n",
       "4            7        1   \n",
       "...        ...      ...   \n",
       "19003      593       79   \n",
       "19004      593       82   \n",
       "19005      600       82   \n",
       "19006      593       85   \n",
       "19007      600       83   \n",
       "\n",
       "                                                                                                                                    text  \n",
       "0      This couple had an excellent relationship going until one day he came home from work to find his girlfriend packing. He asked ...  \n",
       "1      This couple had an excellent relationship going until one day he came home from work to find his girlfriend packing. He asked ...  \n",
       "2      This couple had an excellent relationship going until one day he came home from work to find his girlfriend packing. He asked ...  \n",
       "3      This couple had an excellent relationship going until one day he came home from work to find his girlfriend packing. He asked ...  \n",
       "4      This couple had an excellent relationship going until one day he came home from work to find his girlfriend packing. He asked ...  \n",
       "...                                                                                                                                  ...  \n",
       "19003  Hillary Bill Clinton and the Pope are sitting together on an airplane. Bill says \"I could throw one thousand dollar bill out o...  \n",
       "19004  What a woman says:\"This place is a mess!  C'monYou and I need to clean upYour stuff is lying on the floor and you'll have no c...  \n",
       "19005  What a woman says:\"This place is a mess!  C'monYou and I need to clean upYour stuff is lying on the floor and you'll have no c...  \n",
       "19006  A neutron walks into a bar and orders a drink.\"How much do I owe you?\" the neutron asks.The bartender replies \"for you no char...  \n",
       "19007  Q: What is the difference between Mechanical Engineers and Civil Engineers? A: Mechanical Engineers build weapons Civil Engine...  \n",
       "\n",
       "[19008 rows x 3 columns]"
      ]
     },
     "execution_count": 194,
     "metadata": {},
     "output_type": "execute_result"
    }
   ],
   "source": [
    "usrp_train = pd.merge(u_train,j,on='Joke ID')\n",
    "usrp_train"
   ]
  },
  {
   "cell_type": "code",
   "execution_count": 193,
   "id": "f2fbd10c",
   "metadata": {},
   "outputs": [
    {
     "data": {
      "text/html": [
       "<div>\n",
       "<style scoped>\n",
       "    .dataframe tbody tr th:only-of-type {\n",
       "        vertical-align: middle;\n",
       "    }\n",
       "\n",
       "    .dataframe tbody tr th {\n",
       "        vertical-align: top;\n",
       "    }\n",
       "\n",
       "    .dataframe thead th {\n",
       "        text-align: right;\n",
       "    }\n",
       "</style>\n",
       "<table border=\"1\" class=\"dataframe\">\n",
       "  <thead>\n",
       "    <tr style=\"text-align: right;\">\n",
       "      <th></th>\n",
       "      <th>User ID</th>\n",
       "      <th>Joke ID</th>\n",
       "      <th>text</th>\n",
       "    </tr>\n",
       "  </thead>\n",
       "  <tbody>\n",
       "    <tr>\n",
       "      <th>0</th>\n",
       "      <td>0</td>\n",
       "      <td>47</td>\n",
       "      <td>The graduate with a Science degree asks \"Why does it work?\"The graduate with an Engineering degree asks \"How does it work?\"The...</td>\n",
       "    </tr>\n",
       "    <tr>\n",
       "      <th>1</th>\n",
       "      <td>2</td>\n",
       "      <td>47</td>\n",
       "      <td>The graduate with a Science degree asks \"Why does it work?\"The graduate with an Engineering degree asks \"How does it work?\"The...</td>\n",
       "    </tr>\n",
       "    <tr>\n",
       "      <th>2</th>\n",
       "      <td>6</td>\n",
       "      <td>47</td>\n",
       "      <td>The graduate with a Science degree asks \"Why does it work?\"The graduate with an Engineering degree asks \"How does it work?\"The...</td>\n",
       "    </tr>\n",
       "    <tr>\n",
       "      <th>3</th>\n",
       "      <td>7</td>\n",
       "      <td>47</td>\n",
       "      <td>The graduate with a Science degree asks \"Why does it work?\"The graduate with an Engineering degree asks \"How does it work?\"The...</td>\n",
       "    </tr>\n",
       "    <tr>\n",
       "      <th>4</th>\n",
       "      <td>9</td>\n",
       "      <td>47</td>\n",
       "      <td>The graduate with a Science degree asks \"Why does it work?\"The graduate with an Engineering degree asks \"How does it work?\"The...</td>\n",
       "    </tr>\n",
       "    <tr>\n",
       "      <th>...</th>\n",
       "      <td>...</td>\n",
       "      <td>...</td>\n",
       "      <td>...</td>\n",
       "    </tr>\n",
       "    <tr>\n",
       "      <th>19519</th>\n",
       "      <td>354</td>\n",
       "      <td>27</td>\n",
       "      <td>A mechanical electrical and a software engineer from Microsoft were driving through the desert when the car broke down. The me...</td>\n",
       "    </tr>\n",
       "    <tr>\n",
       "      <th>19520</th>\n",
       "      <td>791</td>\n",
       "      <td>27</td>\n",
       "      <td>A mechanical electrical and a software engineer from Microsoft were driving through the desert when the car broke down. The me...</td>\n",
       "    </tr>\n",
       "    <tr>\n",
       "      <th>19521</th>\n",
       "      <td>629</td>\n",
       "      <td>29</td>\n",
       "      <td>Q: What's the difference between a Lawyer and a Plumber? A: A Plumber works to unclog the system.</td>\n",
       "    </tr>\n",
       "    <tr>\n",
       "      <th>19522</th>\n",
       "      <td>663</td>\n",
       "      <td>22</td>\n",
       "      <td>Q: What is the Australian word for a boomerang that won't   come back? A: A stick</td>\n",
       "    </tr>\n",
       "    <tr>\n",
       "      <th>19523</th>\n",
       "      <td>663</td>\n",
       "      <td>23</td>\n",
       "      <td>What do you get when you run over a parakeet with a lawnmower? Shredded tweet.</td>\n",
       "    </tr>\n",
       "  </tbody>\n",
       "</table>\n",
       "<p>19524 rows × 3 columns</p>\n",
       "</div>"
      ],
      "text/plain": [
       "       User ID  Joke ID  \\\n",
       "0            0       47   \n",
       "1            2       47   \n",
       "2            6       47   \n",
       "3            7       47   \n",
       "4            9       47   \n",
       "...        ...      ...   \n",
       "19519      354       27   \n",
       "19520      791       27   \n",
       "19521      629       29   \n",
       "19522      663       22   \n",
       "19523      663       23   \n",
       "\n",
       "                                                                                                                                    text  \n",
       "0      The graduate with a Science degree asks \"Why does it work?\"The graduate with an Engineering degree asks \"How does it work?\"The...  \n",
       "1      The graduate with a Science degree asks \"Why does it work?\"The graduate with an Engineering degree asks \"How does it work?\"The...  \n",
       "2      The graduate with a Science degree asks \"Why does it work?\"The graduate with an Engineering degree asks \"How does it work?\"The...  \n",
       "3      The graduate with a Science degree asks \"Why does it work?\"The graduate with an Engineering degree asks \"How does it work?\"The...  \n",
       "4      The graduate with a Science degree asks \"Why does it work?\"The graduate with an Engineering degree asks \"How does it work?\"The...  \n",
       "...                                                                                                                                  ...  \n",
       "19519  A mechanical electrical and a software engineer from Microsoft were driving through the desert when the car broke down. The me...  \n",
       "19520  A mechanical electrical and a software engineer from Microsoft were driving through the desert when the car broke down. The me...  \n",
       "19521                                  Q: What's the difference between a Lawyer and a Plumber? A: A Plumber works to unclog the system.  \n",
       "19522                                                  Q: What is the Australian word for a boomerang that won't   come back? A: A stick  \n",
       "19523                                                     What do you get when you run over a parakeet with a lawnmower? Shredded tweet.  \n",
       "\n",
       "[19524 rows x 3 columns]"
      ]
     },
     "execution_count": 193,
     "metadata": {},
     "output_type": "execute_result"
    }
   ],
   "source": [
    "usrp_test = pd.merge(u_test,j,on='Joke ID')\n",
    "usrp_test"
   ]
  },
  {
   "cell_type": "markdown",
   "id": "fcbee9bb",
   "metadata": {},
   "source": [
    "<font size=4>*As we can see above, test set is a bit larger than train set.   \n",
    "    Next, we will get text collection and indices:*"
   ]
  },
  {
   "cell_type": "code",
   "execution_count": 199,
   "id": "15f25df0",
   "metadata": {},
   "outputs": [],
   "source": [
    "# liked items text collection of users \n",
    "usrtext_train= pd.DataFrame(usrp_train.groupby('User ID')['text'].agg(lambda x: x.str.cat(sep=';')))\n",
    "usrtext_test = pd.DataFrame(usrp_test.groupby('User ID')['text'].agg(lambda x: x.str.cat(sep=';')))"
   ]
  },
  {
   "cell_type": "code",
   "execution_count": 200,
   "id": "f91a1e4b",
   "metadata": {},
   "outputs": [],
   "source": [
    "# liked items indices dictionary of users \n",
    "usrCont_train = usrp_train.groupby('User ID')['Joke ID'].apply(list).to_dict()\n",
    "usrCont_test = usrp_test.groupby('User ID')['Joke ID'].apply(list).to_dict()"
   ]
  },
  {
   "cell_type": "code",
   "execution_count": 202,
   "id": "05f49784",
   "metadata": {},
   "outputs": [],
   "source": [
    "user_profiles = vectorizer2.transform(usrtext_train['text'])"
   ]
  },
  {
   "cell_type": "code",
   "execution_count": 204,
   "id": "d46e40cd",
   "metadata": {},
   "outputs": [
    {
     "name": "stdout",
     "output_type": "stream",
     "text": [
      "  (0, 184)\t9.651675732128666\n",
      "  (0, 183)\t3.8233610476132043\n",
      "  (0, 182)\t4.005682604407159\n",
      "  (0, 181)\t12.520855468213036\n",
      "  (0, 180)\t4.228826155721369\n",
      "  (0, 179)\t3.5356789751614235\n",
      "  (0, 178)\t12.686478467164108\n",
      "  (0, 173)\t3.41789593950504\n",
      "  (0, 172)\t6.260427734106518\n",
      "  (0, 171)\t11.628281262956197\n",
      "  (0, 170)\t12.686478467164108\n",
      "  (0, 168)\t4.005682604407159\n",
      "  (0, 167)\t2.842531794601478\n",
      "  (0, 165)\t4.228826155721369\n",
      "  (0, 164)\t3.8233610476132043\n",
      "  (0, 163)\t8.011365208814318\n",
      "  (0, 158)\t7.6467220952264086\n",
      "  (0, 157)\t11.470083142839613\n",
      "  (0, 156)\t6.625070847694428\n",
      "  (0, 155)\t12.017047813221478\n",
      "  (0, 154)\t8.721210947217148\n",
      "  (0, 153)\t4.228826155721369\n",
      "  (0, 151)\t4.228826155721369\n",
      "  (0, 150)\t7.6467220952264086\n",
      "  (0, 149)\t3.312535423847214\n",
      "  :\t:\n",
      "  (1, 36)\t4.005682604407159\n",
      "  (1, 35)\t4.228826155721369\n",
      "  (1, 32)\t4.005682604407159\n",
      "  (1, 31)\t8.457652311442738\n",
      "  (1, 27)\t7.071357950322847\n",
      "  (1, 26)\t7.6467220952264086\n",
      "  (1, 25)\t3.8233610476132043\n",
      "  (1, 24)\t3.6692103677859462\n",
      "  (1, 23)\t4.005682604407159\n",
      "  (1, 22)\t9.937606271541641\n",
      "  (1, 21)\t8.457652311442738\n",
      "  (1, 18)\t8.011365208814318\n",
      "  (1, 17)\t7.071357950322847\n",
      "  (1, 16)\t8.011365208814318\n",
      "  (1, 15)\t4.005682604407159\n",
      "  (1, 13)\t4.228826155721369\n",
      "  (1, 12)\t14.142715900645694\n",
      "  (1, 11)\t4.228826155721369\n",
      "  (1, 10)\t6.260427734106518\n",
      "  (1, 8)\t10.096312253931774\n",
      "  (1, 7)\t4.228826155721369\n",
      "  (1, 6)\t8.011365208814318\n",
      "  (1, 5)\t8.011365208814318\n",
      "  (1, 4)\t7.6467220952264086\n",
      "  (1, 2)\t8.457652311442738\n"
     ]
    }
   ],
   "source": [
    "print(user_profiles[0:2])"
   ]
  },
  {
   "cell_type": "markdown",
   "id": "be8e2588",
   "metadata": {},
   "source": [
    "### 1d"
   ]
  },
  {
   "cell_type": "markdown",
   "id": "164e5d1e",
   "metadata": {},
   "source": [
    "Now that you have feature vector representations of users' profiles, implement a personalized content-based recommender. It should take the ratings data, the profile feature vector for a target user, and a list of item indices that are part of the target user's profile (i.e., the known \"liked\" items); and output the top k recommended items for the user (based on similarity to target user's profile). The recommended items must be different than the items already in the user profile (i.e. different from the training \"liked\" items). Test your recommender by generating the top 10 recommended jokes for user 0 (show the items in user's profile as well as the top 10 recommended jokes)."
   ]
  },
  {
   "cell_type": "markdown",
   "id": "331c25cd",
   "metadata": {},
   "source": [
    "### The recommender for users:"
   ]
  },
  {
   "cell_type": "code",
   "execution_count": 226,
   "id": "39988731",
   "metadata": {},
   "outputs": [],
   "source": [
    "def content_based_rec_user(dataMat, txtMat, user, user_p, like_in, k):\n",
    "    '''dataMat = items Data Frame\n",
    "       txtMat  = token count sparse matrix of text documents \n",
    "       user    = user ID\n",
    "       user_p  = user profile vector\n",
    "       like_in = liked items indices of user\n",
    "       k       = top k most similar items'''\n",
    "    #  get user profile for target user \n",
    "    u = user_p[user]\n",
    "    \n",
    "    from sklearn.metrics.pairwise import cosine_similarity\n",
    "    sims = cosine_similarity(txtMat, u)\n",
    "    # cosine_similarity returns a nx1 array; flatten it into a 1d numpy array\n",
    "    sims = sims.flatten() \n",
    "    idx = np.argsort(sims)\n",
    "    liked_indices = like_in[user]\n",
    "    idx = np.array([i for i in idx if not (i in liked_indices)])\n",
    "    idx = idx[::-1]\n",
    "    neigh_idx = idx[:k]\n",
    "    neigh_sims = sims[neigh_idx]\n",
    "    res = pd.DataFrame(columns=['Item index','Similarity','Item'])\n",
    "    for i in range(k):\n",
    "            res.loc[i]= [neigh_idx[i] , neigh_sims[i] , dataMat.iloc[neigh_idx[i]][0]]\n",
    "            \n",
    "    print('The User Id is {}. Here are top {} recommended items:\\n'.format(user, k))\n",
    "    \n",
    "    return res"
   ]
  },
  {
   "cell_type": "markdown",
   "id": "ec6cd138",
   "metadata": {},
   "source": [
    "### Top 10 recommended jokes for user 0 "
   ]
  },
  {
   "cell_type": "code",
   "execution_count": 227,
   "id": "0ba991e3",
   "metadata": {},
   "outputs": [
    {
     "name": "stdout",
     "output_type": "stream",
     "text": [
      "The User Id is 0. Here are top 10 recommended items:\n",
      "\n"
     ]
    },
    {
     "data": {
      "text/html": [
       "<div>\n",
       "<style scoped>\n",
       "    .dataframe tbody tr th:only-of-type {\n",
       "        vertical-align: middle;\n",
       "    }\n",
       "\n",
       "    .dataframe tbody tr th {\n",
       "        vertical-align: top;\n",
       "    }\n",
       "\n",
       "    .dataframe thead th {\n",
       "        text-align: right;\n",
       "    }\n",
       "</style>\n",
       "<table border=\"1\" class=\"dataframe\">\n",
       "  <thead>\n",
       "    <tr style=\"text-align: right;\">\n",
       "      <th></th>\n",
       "      <th>Item index</th>\n",
       "      <th>Similarity</th>\n",
       "      <th>Item</th>\n",
       "    </tr>\n",
       "  </thead>\n",
       "  <tbody>\n",
       "    <tr>\n",
       "      <th>0</th>\n",
       "      <td>92</td>\n",
       "      <td>0.41</td>\n",
       "      <td>Reaching the end of a job interview the human resources person asked a young engineer fresh out of Stanford\"And what starting ...</td>\n",
       "    </tr>\n",
       "    <tr>\n",
       "      <th>1</th>\n",
       "      <td>83</td>\n",
       "      <td>0.35</td>\n",
       "      <td>Q: What is the difference between Mechanical Engineers and Civil Engineers? A: Mechanical Engineers build weapons Civil Engine...</td>\n",
       "    </tr>\n",
       "    <tr>\n",
       "      <th>2</th>\n",
       "      <td>48</td>\n",
       "      <td>0.34</td>\n",
       "      <td>Three engineering students were gathered together discussing the possible designers of the human body.  One said \"It was a mec...</td>\n",
       "    </tr>\n",
       "    <tr>\n",
       "      <th>3</th>\n",
       "      <td>55</td>\n",
       "      <td>0.31</td>\n",
       "      <td>A man and Cindy Crawford get stranded on a desert island.  After a couple of days they fall in love and start sleeping togethe...</td>\n",
       "    </tr>\n",
       "    <tr>\n",
       "      <th>4</th>\n",
       "      <td>61</td>\n",
       "      <td>0.26</td>\n",
       "      <td>A group of  managers were given the assignment to measure the height of a flagpole. So they go out to the flagpole with ladder...</td>\n",
       "    </tr>\n",
       "    <tr>\n",
       "      <th>5</th>\n",
       "      <td>93</td>\n",
       "      <td>0.26</td>\n",
       "      <td>Two atoms are walking down the street when one atom says to the other \"Oh my! I've lost an electron!\"The second atom says\"Are ...</td>\n",
       "    </tr>\n",
       "    <tr>\n",
       "      <th>6</th>\n",
       "      <td>78</td>\n",
       "      <td>0.25</td>\n",
       "      <td>Q: Ever wonder why the IRS calls it Form 1040?A: Because for every $50 that you earn you get 10 and they get 40.</td>\n",
       "    </tr>\n",
       "    <tr>\n",
       "      <th>7</th>\n",
       "      <td>52</td>\n",
       "      <td>0.22</td>\n",
       "      <td>One Sunday morning William burst into the living room and said\"Dad! Mom! I have some great news for you! I am getting married ...</td>\n",
       "    </tr>\n",
       "    <tr>\n",
       "      <th>8</th>\n",
       "      <td>47</td>\n",
       "      <td>0.22</td>\n",
       "      <td>The graduate with a Science degree asks \"Why does it work?\"The graduate with an Engineering degree asks \"How does it work?\"The...</td>\n",
       "    </tr>\n",
       "    <tr>\n",
       "      <th>9</th>\n",
       "      <td>67</td>\n",
       "      <td>0.22</td>\n",
       "      <td>A man piloting a hot air balloon discovers he has wandered off course and is hopelessly lost. He descends to a lower altitude ...</td>\n",
       "    </tr>\n",
       "  </tbody>\n",
       "</table>\n",
       "</div>"
      ],
      "text/plain": [
       "  Item index  Similarity  \\\n",
       "0         92        0.41   \n",
       "1         83        0.35   \n",
       "2         48        0.34   \n",
       "3         55        0.31   \n",
       "4         61        0.26   \n",
       "5         93        0.26   \n",
       "6         78        0.25   \n",
       "7         52        0.22   \n",
       "8         47        0.22   \n",
       "9         67        0.22   \n",
       "\n",
       "                                                                                                                                Item  \n",
       "0  Reaching the end of a job interview the human resources person asked a young engineer fresh out of Stanford\"And what starting ...  \n",
       "1  Q: What is the difference between Mechanical Engineers and Civil Engineers? A: Mechanical Engineers build weapons Civil Engine...  \n",
       "2  Three engineering students were gathered together discussing the possible designers of the human body.  One said \"It was a mec...  \n",
       "3  A man and Cindy Crawford get stranded on a desert island.  After a couple of days they fall in love and start sleeping togethe...  \n",
       "4  A group of  managers were given the assignment to measure the height of a flagpole. So they go out to the flagpole with ladder...  \n",
       "5  Two atoms are walking down the street when one atom says to the other \"Oh my! I've lost an electron!\"The second atom says\"Are ...  \n",
       "6                   Q: Ever wonder why the IRS calls it Form 1040?A: Because for every $50 that you earn you get 10 and they get 40.  \n",
       "7  One Sunday morning William burst into the living room and said\"Dad! Mom! I have some great news for you! I am getting married ...  \n",
       "8  The graduate with a Science degree asks \"Why does it work?\"The graduate with an Engineering degree asks \"How does it work?\"The...  \n",
       "9  A man piloting a hot air balloon discovers he has wandered off course and is hopelessly lost. He descends to a lower altitude ...  "
      ]
     },
     "execution_count": 227,
     "metadata": {},
     "output_type": "execute_result"
    }
   ],
   "source": [
    "content_based_rec_user(jokes, joke_mat2, 0, user_profiles, usrCont_train, 10)"
   ]
  },
  {
   "cell_type": "markdown",
   "id": "ba3eb872",
   "metadata": {},
   "source": [
    "### 1e"
   ]
  },
  {
   "cell_type": "markdown",
   "id": "0ba0d8dc",
   "metadata": {},
   "source": [
    "Evaluate your content-based recommender in 1(d) using Precision and Recall metrics. Lets' denote the set of relevant recommendations for a single user u as Rel_u defined as the set of test \"liked\" items set aside earlier for user u (see 1(c) above). Let Rec_u denote the list of top-k recommendations for user u generated by the recommender. Precision@k for user u is defined as |intersect(Rec_u,  Rel_u|)/|Rec_u| which is the same as the number of common items between recommendation list and the test set, divided by k. Recal@k for user u is defined as |intersect(Rec_u,  Rel_u|)/|Rel_u|, i.e, the number of common items between recommendation list and the test set, divided by the size of the test set. To perform evaluation of the system, average precision@k and recall@k values (for a specific value of k) must be computed across all users. This will produce avg_precision@k and avg_recall@k. Finally, to tune the system, avg_precision@k and avg_recall@k must be computed for a range of values of k. You should write your own evaluation function (rather than using existing libraries) and you should produce a chart with avg precision and avg recall values relative to values of k. This example shows what your results might look like."
   ]
  },
  {
   "cell_type": "markdown",
   "id": "b5046774",
   "metadata": {},
   "source": [
    "### The function that could calculate recall and precision"
   ]
  },
  {
   "cell_type": "code",
   "execution_count": 242,
   "id": "930a2c5f",
   "metadata": {},
   "outputs": [],
   "source": [
    "def content_based_recall_precision(txtMat, user_id, user_p, like_tr, like_ts, k):\n",
    "    '''txtMat  = token count sparse matrix of text documents \n",
    "       user_id = user list\n",
    "       user_p  = user profile vector\n",
    "       like_tr = train set of users' liked items indices \n",
    "       like_ts = test set of users' liked items indices \n",
    "       k       = top k most similar items'''\n",
    "    recall_sum = 0\n",
    "    precision_sum = 0\n",
    "    length = len(user_id)\n",
    "    \n",
    "    for user in user_id:\n",
    "        \n",
    "        #  get user profile for target user \n",
    "        u = user_p[user]\n",
    "\n",
    "        from sklearn.metrics.pairwise import cosine_similarity\n",
    "        sims = cosine_similarity(txtMat, u)\n",
    "        # cosine_similarity returns a nx1 array; flatten it into a 1d numpy array\n",
    "        sims = sims.flatten() \n",
    "        idx = np.argsort(sims)\n",
    "        liked_indices = like_tr[user]\n",
    "        # get all similarity indices that is not in train set \n",
    "        idx = np.array([i for i in idx if not (i in liked_indices)])\n",
    "        idx = idx[::-1]\n",
    "        # get top k recommendation indices\n",
    "        neigh_idx = idx[:k]\n",
    "        # get total number of intersect between test set indices and recommendation indices \n",
    "        #rep = np.sum(neigh_idx == like_ts[user])\n",
    "        rep = len([x for x in neigh_idx if x in like_ts[user]])\n",
    "        rel_size = len(like_ts[user])\n",
    "        rec_size = len(neigh_idx)\n",
    "        # recall = repeated value divided by test set length \n",
    "        recall_sum += rep / rel_size\n",
    "        # precision = repeated value divided by total number of recommendations\n",
    "        precision_sum += rep / rec_size\n",
    "    \n",
    "    # get average recall and precision from all users \n",
    "    avg_recall = recall_sum / length\n",
    "    avg_precision = precision_sum  / length\n",
    "    \n",
    "    return avg_recall,avg_precision"
   ]
  },
  {
   "cell_type": "code",
   "execution_count": 232,
   "id": "7a2c229c",
   "metadata": {},
   "outputs": [],
   "source": [
    "# create a user id list for the function\n",
    "user_id = list(range(100))"
   ]
  },
  {
   "cell_type": "markdown",
   "id": "f19c3654",
   "metadata": {},
   "source": [
    "### A test for the function:"
   ]
  },
  {
   "cell_type": "code",
   "execution_count": 245,
   "id": "ff7d57b1",
   "metadata": {
    "scrolled": true
   },
   "outputs": [],
   "source": [
    "recall, precision = content_based_recall_precision(joke_mat2, user_id, user_profiles, usrCont_train, usrCont_test, 40)"
   ]
  },
  {
   "cell_type": "code",
   "execution_count": 246,
   "id": "405cffcc",
   "metadata": {},
   "outputs": [
    {
     "name": "stdout",
     "output_type": "stream",
     "text": [
      "0.6236958065192663 0.31299999999999994\n"
     ]
    }
   ],
   "source": [
    "print(recall,precision)"
   ]
  },
  {
   "cell_type": "markdown",
   "id": "1dd6a8d7",
   "metadata": {},
   "source": [
    "### Draw the chart for different K values"
   ]
  },
  {
   "cell_type": "code",
   "execution_count": 261,
   "id": "d7e0c022",
   "metadata": {},
   "outputs": [],
   "source": [
    "df = pd.DataFrame(columns=['k','Recall','Precision'])\n",
    "# get recall and precisions for k = 1 to 50\n",
    "for i in range(1,51):\n",
    "    r, p = content_based_recall_precision(joke_mat2, user_id, user_profiles, usrCont_train, usrCont_test, i)\n",
    "    df.loc[i]= [i,r,p] "
   ]
  },
  {
   "cell_type": "code",
   "execution_count": 262,
   "id": "585eb9ab",
   "metadata": {},
   "outputs": [],
   "source": [
    "d = [df['Recall'],df['Precision']]"
   ]
  },
  {
   "cell_type": "code",
   "execution_count": 265,
   "id": "1549a196",
   "metadata": {},
   "outputs": [
    {
     "data": {
      "text/plain": [
       "[Text(0.5, 0, 'K value'),\n",
       " Text(0.5, 1.0, 'Recall and Precision Changes among K value')]"
      ]
     },
     "execution_count": 265,
     "metadata": {},
     "output_type": "execute_result"
    },
    {
     "data": {
      "image/png": "[encoded data removed]",
      "text/plain": [
       "<Figure size 432x288 with 1 Axes>"
      ]
     },
     "metadata": {
      "needs_background": "light"
     },
     "output_type": "display_data"
    }
   ],
   "source": [
    "sns.scatterplot(data = d ).set(xlabel='K value', title ='Recall and Precision Changes among K value')"
   ]
  },
  {
   "cell_type": "markdown",
   "id": "0ff05969",
   "metadata": {},
   "source": [
    "# THE END"
   ]
  }
 ],
 "metadata": {
  "kernelspec": {
   "display_name": "Python 3 (ipykernel)",
   "language": "python",
   "name": "python3"
  },
  "language_info": {
   "codemirror_mode": {
    "name": "ipython",
    "version": 3
   },
   "file_extension": ".py",
   "mimetype": "text/x-python",
   "name": "python",
   "nbconvert_exporter": "python",
   "pygments_lexer": "ipython3",
   "version": "3.9.7"
  }
 },
 "nbformat": 4,
 "nbformat_minor": 5
}
