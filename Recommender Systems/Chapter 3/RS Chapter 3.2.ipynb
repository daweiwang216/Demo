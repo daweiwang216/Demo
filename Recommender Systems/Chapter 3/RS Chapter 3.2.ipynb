{
 "cells": [
  {
   "cell_type": "markdown",
   "id": "86916729",
   "metadata": {},
   "source": [
    "# Chapter 3 Part 2<br>Parameter Optimization with Surprise\n",
    "## Dawei Wang"
   ]
  },
  {
   "cell_type": "markdown",
   "id": "f9057736",
   "metadata": {},
   "source": [
    "For this part you will experiment with parameter tuning for recommender systems implemented in Surprise. You will use the \"review.csv\" file from Yelp Core 5 distribution which includes ratings by users on various business establishments. The Yelp Core 5 data set is about 140k ratings, but it is fairly sparse (99.7%). Every user has rated at least five establishments and every establishment has at least five ratings. This data set is based on the Yelp challenge data set: https://www.kaggle.com/c/yelp-recsys-2013.\n",
    "\n"
   ]
  },
  {
   "cell_type": "markdown",
   "id": "270c2858",
   "metadata": {},
   "source": [
    "Pick three algorithms that are implemented in Surprise.\n",
    "\n",
    "One neighborhood algorithm from:\n",
    "\n",
    "    * KNNWithMeans: Item or User\n",
    "    * KNNWithZScore: Item or User\n",
    "    * KNNBaseline: Item or User\n",
    "\n",
    "Two model-based algorithms from:\n",
    "\n",
    "    * SVD\n",
    "    * SVDpp\n",
    "    * NMF\n",
    "    * SlopeOne\n",
    "    * CoClustering\n",
    "\n",
    "Using the Yelp Core 5 data set, tune each algorithm to achieve the best performance on the RMSE metric.\n",
    "\n",
    "Note that there are quite a few parameters for some algorithms. Keep careful notes about what parameters you tried and the results that you got. The GridSearchCV method in Surprise can be useful for this purpose. You do not need to include your code and full outputs for parameter tuning, but you'll need to submit a separate report detailing what you tried (see below).\n",
    "\n",
    "After tuning your algorithm and determining the best parameters for each algorithm, create a Jupyter notebook showing a 5-fold CV comparison using the best parameters for each. Include a plot comparing the RMSE values.\n",
    "\n",
    "Important Note: A better experimental methodology (which we are not using here) would be to hold out a validation set for evaluation and tune the algorithms on the training portion of the data. This is the proper evaluation methodology that you should use in more realistic situations (including the class project).\n"
   ]
  },
  {
   "cell_type": "code",
   "execution_count": 138,
   "id": "73720aec",
   "metadata": {},
   "outputs": [
    {
     "name": "stdout",
     "output_type": "stream",
     "text": [
      "Version list\n",
      "\n",
      "python 3.9.7\n",
      "numpy 1.22.2\n",
      "pandas 1.3.5\n",
      "scipy 1.7.3\n",
      "seaborn 0.11.2\n",
      "matplotlib 3.5.1\n",
      "nltk 3.7\n"
     ]
    }
   ],
   "source": [
    "import os\n",
    "import matplotlib\n",
    "import pandas as pd\n",
    "import numpy as np\n",
    "import scipy as sp\n",
    "import seaborn as sns\n",
    "import re\n",
    "import nltk      \n",
    "from nltk.stem import PorterStemmer\n",
    "from nltk.corpus import stopwords\n",
    "from sklearn.feature_extraction.text import TfidfVectorizer, CountVectorizer\n",
    "from matplotlib import pyplot as plt\n",
    "from platform import python_version\n",
    "from scipy.spatial.distance import cosine, correlation\n",
    "from sklearn.metrics import mean_squared_error, mean_absolute_error\n",
    "\n",
    "pd.set_option('max_columns',200)\n",
    "pd.set_option('display.precision',2)\n",
    "\n",
    "print('Version list\\n')\n",
    "print('python',python_version())\n",
    "print(np.__name__, np.__version__)\n",
    "print(pd.__name__, pd.__version__)\n",
    "print(sp.__name__, sp.__version__)\n",
    "print(sns.__name__, sns.__version__)\n",
    "print(matplotlib.__name__, matplotlib.__version__)\n",
    "print(nltk.__name__, nltk.__version__)"
   ]
  },
  {
   "cell_type": "code",
   "execution_count": 139,
   "id": "f43ccc48",
   "metadata": {},
   "outputs": [],
   "source": [
    "from surprise import Dataset, Reader, accuracy\n",
    "from surprise import KNNBaseline, KNNWithMeans, KNNWithZScore,SVD, SVDpp, NMF, SlopeOne, SVDpp, CoClustering\n",
    "from surprise.model_selection import cross_validate, GridSearchCV, train_test_split"
   ]
  },
  {
   "cell_type": "code",
   "execution_count": 140,
   "id": "ab01a7a2",
   "metadata": {},
   "outputs": [],
   "source": [
    "os.chdir('/Users/daweiwang/Desktop/CSC 577/Assignments')\n",
    "df = pd.read_csv('review.csv',header=None)\n",
    "df = df.rename(columns ={0:'u_id',1:'b_id',2:'ratings'})"
   ]
  },
  {
   "cell_type": "code",
   "execution_count": 10,
   "id": "fdab742e",
   "metadata": {
    "scrolled": true
   },
   "outputs": [
    {
     "data": {
      "text/html": [
       "<div>\n",
       "<style scoped>\n",
       "    .dataframe tbody tr th:only-of-type {\n",
       "        vertical-align: middle;\n",
       "    }\n",
       "\n",
       "    .dataframe tbody tr th {\n",
       "        vertical-align: top;\n",
       "    }\n",
       "\n",
       "    .dataframe thead th {\n",
       "        text-align: right;\n",
       "    }\n",
       "</style>\n",
       "<table border=\"1\" class=\"dataframe\">\n",
       "  <thead>\n",
       "    <tr style=\"text-align: right;\">\n",
       "      <th></th>\n",
       "      <th>u_id</th>\n",
       "      <th>b_id</th>\n",
       "      <th>ratings</th>\n",
       "    </tr>\n",
       "  </thead>\n",
       "  <tbody>\n",
       "    <tr>\n",
       "      <th>0</th>\n",
       "      <td>10000</td>\n",
       "      <td>0</td>\n",
       "      <td>5</td>\n",
       "    </tr>\n",
       "    <tr>\n",
       "      <th>1</th>\n",
       "      <td>10001</td>\n",
       "      <td>1</td>\n",
       "      <td>5</td>\n",
       "    </tr>\n",
       "    <tr>\n",
       "      <th>2</th>\n",
       "      <td>10002</td>\n",
       "      <td>2</td>\n",
       "      <td>5</td>\n",
       "    </tr>\n",
       "    <tr>\n",
       "      <th>3</th>\n",
       "      <td>10003</td>\n",
       "      <td>3</td>\n",
       "      <td>4</td>\n",
       "    </tr>\n",
       "    <tr>\n",
       "      <th>4</th>\n",
       "      <td>10004</td>\n",
       "      <td>4</td>\n",
       "      <td>5</td>\n",
       "    </tr>\n",
       "    <tr>\n",
       "      <th>...</th>\n",
       "      <td>...</td>\n",
       "      <td>...</td>\n",
       "      <td>...</td>\n",
       "    </tr>\n",
       "    <tr>\n",
       "      <th>141449</th>\n",
       "      <td>14909</td>\n",
       "      <td>1790</td>\n",
       "      <td>5</td>\n",
       "    </tr>\n",
       "    <tr>\n",
       "      <th>141450</th>\n",
       "      <td>13002</td>\n",
       "      <td>154</td>\n",
       "      <td>1</td>\n",
       "    </tr>\n",
       "    <tr>\n",
       "      <th>141451</th>\n",
       "      <td>10521</td>\n",
       "      <td>498</td>\n",
       "      <td>3</td>\n",
       "    </tr>\n",
       "    <tr>\n",
       "      <th>141452</th>\n",
       "      <td>15032</td>\n",
       "      <td>3315</td>\n",
       "      <td>2</td>\n",
       "    </tr>\n",
       "    <tr>\n",
       "      <th>141453</th>\n",
       "      <td>10922</td>\n",
       "      <td>225</td>\n",
       "      <td>3</td>\n",
       "    </tr>\n",
       "  </tbody>\n",
       "</table>\n",
       "<p>141454 rows × 3 columns</p>\n",
       "</div>"
      ],
      "text/plain": [
       "         u_id  b_id  ratings\n",
       "0       10000     0        5\n",
       "1       10001     1        5\n",
       "2       10002     2        5\n",
       "3       10003     3        4\n",
       "4       10004     4        5\n",
       "...       ...   ...      ...\n",
       "141449  14909  1790        5\n",
       "141450  13002   154        1\n",
       "141451  10521   498        3\n",
       "141452  15032  3315        2\n",
       "141453  10922   225        3\n",
       "\n",
       "[141454 rows x 3 columns]"
      ]
     },
     "execution_count": 10,
     "metadata": {},
     "output_type": "execute_result"
    }
   ],
   "source": [
    "df "
   ]
  },
  {
   "cell_type": "code",
   "execution_count": 12,
   "id": "8ac8992b",
   "metadata": {},
   "outputs": [
    {
     "name": "stdout",
     "output_type": "stream",
     "text": [
      "Rating Scale\n",
      "Max: 5\n",
      "Min: 1\n"
     ]
    }
   ],
   "source": [
    "print('Rating Scale')\n",
    "print('Max:',df.ratings.max())\n",
    "print('Min:',df.ratings.min())"
   ]
  },
  {
   "cell_type": "code",
   "execution_count": 141,
   "id": "c32185b8",
   "metadata": {},
   "outputs": [],
   "source": [
    "# Rating_scale 1-5\n",
    "reader = Reader(rating_scale=(1, 5))\n",
    "# Load data \n",
    "data = Dataset.load_from_df(df[['u_id','b_id','ratings']], reader)"
   ]
  },
  {
   "cell_type": "code",
   "execution_count": 142,
   "id": "6e8987de",
   "metadata": {},
   "outputs": [],
   "source": [
    "knnbasic_cv = cross_validate(KNNBaseline(), data, cv=5, n_jobs=5, verbose=False)\n",
    "knnmeans_cv = cross_validate(KNNWithMeans(), data, cv=5, n_jobs=5, verbose=False)\n",
    "knnzscore_cv = cross_validate(KNNWithZScore(), data, cv=5, n_jobs=5, verbose=False)\n",
    "svd_cv = cross_validate(SVD(), data, cv=5, n_jobs=5, verbose=False)\n",
    "svdpp_cv = cross_validate(SVDpp(), data, cv=5, n_jobs=5, verbose=False)\n",
    "nmf_cv = cross_validate(NMF(), data, cv=5, n_jobs=5, verbose=False)\n",
    "slope_cv = cross_validate(SlopeOne(), data, cv=5, n_jobs=5, verbose=False)\n",
    "cocluster_cv = cross_validate(CoClustering(), data, cv=5, n_jobs=5, verbose=False)"
   ]
  },
  {
   "cell_type": "markdown",
   "id": "c9383bd7",
   "metadata": {},
   "source": [
    "## Get the general idea of performances of all algorithms"
   ]
  },
  {
   "cell_type": "code",
   "execution_count": 145,
   "id": "f3e924de",
   "metadata": {},
   "outputs": [],
   "source": [
    "RMSE = pd.DataFrame(columns=['Algorithm','RMSE'])\n",
    "algo=[knnbasic_cv, knnmeans_cv, knnzscore_cv, svd_cv, svdpp_cv, nmf_cv, slope_cv, cocluster_cv]\n",
    "name = ['KNN Baseline', 'KNN Means', 'KNN Zscore', 'SVD', 'SVD++', 'NMF', 'Slope One', 'Coclustering']\n",
    "for i in range(len(algo)):\n",
    "    RMSE.loc[i]=[name[i],algo[i]['test_rmse'].mean()]\n",
    "    "
   ]
  },
  {
   "cell_type": "code",
   "execution_count": 146,
   "id": "ef963b48",
   "metadata": {},
   "outputs": [
    {
     "data": {
      "text/html": [
       "<div>\n",
       "<style scoped>\n",
       "    .dataframe tbody tr th:only-of-type {\n",
       "        vertical-align: middle;\n",
       "    }\n",
       "\n",
       "    .dataframe tbody tr th {\n",
       "        vertical-align: top;\n",
       "    }\n",
       "\n",
       "    .dataframe thead th {\n",
       "        text-align: right;\n",
       "    }\n",
       "</style>\n",
       "<table border=\"1\" class=\"dataframe\">\n",
       "  <thead>\n",
       "    <tr style=\"text-align: right;\">\n",
       "      <th></th>\n",
       "      <th>Algorithm</th>\n",
       "      <th>RMSE</th>\n",
       "    </tr>\n",
       "  </thead>\n",
       "  <tbody>\n",
       "    <tr>\n",
       "      <th>0</th>\n",
       "      <td>KNN Baseline</td>\n",
       "      <td>1.06</td>\n",
       "    </tr>\n",
       "    <tr>\n",
       "      <th>1</th>\n",
       "      <td>KNN Means</td>\n",
       "      <td>1.09</td>\n",
       "    </tr>\n",
       "    <tr>\n",
       "      <th>2</th>\n",
       "      <td>KNN Zscore</td>\n",
       "      <td>1.09</td>\n",
       "    </tr>\n",
       "    <tr>\n",
       "      <th>3</th>\n",
       "      <td>SVD</td>\n",
       "      <td>1.02</td>\n",
       "    </tr>\n",
       "    <tr>\n",
       "      <th>4</th>\n",
       "      <td>SVD++</td>\n",
       "      <td>1.02</td>\n",
       "    </tr>\n",
       "    <tr>\n",
       "      <th>5</th>\n",
       "      <td>NMF</td>\n",
       "      <td>1.12</td>\n",
       "    </tr>\n",
       "    <tr>\n",
       "      <th>6</th>\n",
       "      <td>Slope One</td>\n",
       "      <td>1.11</td>\n",
       "    </tr>\n",
       "    <tr>\n",
       "      <th>7</th>\n",
       "      <td>Coclustering</td>\n",
       "      <td>1.09</td>\n",
       "    </tr>\n",
       "  </tbody>\n",
       "</table>\n",
       "</div>"
      ],
      "text/plain": [
       "      Algorithm  RMSE\n",
       "0  KNN Baseline  1.06\n",
       "1     KNN Means  1.09\n",
       "2    KNN Zscore  1.09\n",
       "3           SVD  1.02\n",
       "4         SVD++  1.02\n",
       "5           NMF  1.12\n",
       "6     Slope One  1.11\n",
       "7  Coclustering  1.09"
      ]
     },
     "execution_count": 146,
     "metadata": {},
     "output_type": "execute_result"
    },
    {
     "name": "stdout",
     "output_type": "stream",
     "text": [
      "Estimating biases using als...\n",
      "Computing the msd similarity matrix...\n",
      "Done computing similarity matrix.\n",
      "Computing the msd similarity matrix...\n",
      "Done computing similarity matrix.\n",
      "Computing the msd similarity matrix...\n",
      "Done computing similarity matrix.\n",
      "Estimating biases using als...\n",
      "Computing the msd similarity matrix...\n",
      "Done computing similarity matrix.\n",
      "Computing the msd similarity matrix...\n",
      "Done computing similarity matrix.\n",
      "Computing the msd similarity matrix...\n",
      "Done computing similarity matrix.\n",
      "Estimating biases using als...\n",
      "Computing the msd similarity matrix...\n",
      "Done computing similarity matrix.\n",
      "Computing the msd similarity matrix...\n",
      "Done computing similarity matrix.\n",
      "Computing the msd similarity matrix...\n",
      "Done computing similarity matrix.\n",
      "Estimating biases using als...\n",
      "Computing the msd similarity matrix...\n",
      "Done computing similarity matrix.\n",
      "Computing the msd similarity matrix...\n",
      "Done computing similarity matrix.\n",
      "Computing the msd similarity matrix...\n",
      "Done computing similarity matrix.\n",
      "Estimating biases using als...\n",
      "Computing the msd similarity matrix...\n",
      "Done computing similarity matrix.\n",
      "Computing the msd similarity matrix...\n",
      "Done computing similarity matrix.\n",
      "Computing the msd similarity matrix...\n",
      "Done computing similarity matrix.\n"
     ]
    }
   ],
   "source": [
    "RMSE"
   ]
  },
  {
   "cell_type": "markdown",
   "id": "0896d742",
   "metadata": {},
   "source": [
    "### We can see the best perfomance was from SVD and SVD++  \n",
    "### Next, try grid search on these two algorithms "
   ]
  },
  {
   "cell_type": "code",
   "execution_count": 50,
   "id": "dd5f33bb",
   "metadata": {},
   "outputs": [],
   "source": [
    "svd_param_grid = {'n_factors': [60,100,140],\n",
    "                  'n_epochs': [5, 15, 25], \n",
    "                  'lr_all': [0.001, 0.005, 0.009],\n",
    "                  'reg_all': [0.2, 0.4, 0.6]}\n",
    "# epochs The number of iteration of the SGD procedure\n",
    "# lr_all: The learning rate for all parameters. Default is 0.005.\n",
    "# reg_all: The regularization term for all parameters. Default is 0.02.\n",
    "# Complexity O(n ^3)\n",
    "\n",
    "svdpp = GridSearchCV(SVDpp, svd_param_grid, measures=['rmse'], cv=3, n_jobs=5)\n",
    "svdpp.fit(data)\n",
    "\n",
    "svd = GridSearchCV(SVD, svd_param_grid, measures=['rmse'], cv=3, n_jobs=5)\n",
    "svd.fit(data)"
   ]
  },
  {
   "cell_type": "markdown",
   "id": "a1c2c18c",
   "metadata": {},
   "source": [
    "### The best result for these two algorithms listed below"
   ]
  },
  {
   "cell_type": "code",
   "execution_count": 120,
   "id": "e92027c5",
   "metadata": {
    "scrolled": true
   },
   "outputs": [
    {
     "name": "stdout",
     "output_type": "stream",
     "text": [
      "1.0136\n",
      "{'n_factors': 60, 'n_epochs': 25, 'lr_all': 0.005, 'reg_all': 0.2}\n"
     ]
    }
   ],
   "source": [
    "print(round(svd.best_score['rmse'], 4))\n",
    "print(svd.best_params['rmse'])"
   ]
  },
  {
   "cell_type": "code",
   "execution_count": 119,
   "id": "ddca039e",
   "metadata": {},
   "outputs": [
    {
     "name": "stdout",
     "output_type": "stream",
     "text": [
      "1.0193\n",
      "{'n_factors': 60, 'n_epochs': 25, 'lr_all': 0.005, 'reg_all': 0.2}\n"
     ]
    }
   ],
   "source": [
    "print(round(svdpp.best_score['rmse'], 4))\n",
    "print(svdpp.best_params['rmse'])"
   ]
  },
  {
   "cell_type": "markdown",
   "id": "a2d2cf1b",
   "metadata": {},
   "source": [
    "## Manual Search\n",
    "### To avoid long waiting and accident interruptions, here I tried to split the dataset and use combinations of parameters to get the best ones"
   ]
  },
  {
   "cell_type": "code",
   "execution_count": 63,
   "id": "6fe133f3",
   "metadata": {},
   "outputs": [],
   "source": [
    "train, test = train_test_split(data, test_size=.20)"
   ]
  },
  {
   "cell_type": "markdown",
   "id": "671c5265",
   "metadata": {},
   "source": [
    "### The parameter sets were based on the grid search results"
   ]
  },
  {
   "cell_type": "code",
   "execution_count": 74,
   "id": "f75d71f7",
   "metadata": {},
   "outputs": [
    {
     "name": "stdout",
     "output_type": "stream",
     "text": [
      "RMSE: 1.0206\n",
      "RMSE: 1.0209\n",
      "RMSE: 1.0226\n",
      "RMSE: 1.0155\n",
      "RMSE: 1.0150\n",
      "RMSE: 1.0164\n",
      "RMSE: 1.0141\n",
      "RMSE: 1.0129\n",
      "RMSE: 1.0143\n",
      "RMSE: 1.0170\n",
      "RMSE: 1.0179\n",
      "RMSE: 1.0195\n",
      "RMSE: 1.0132\n",
      "RMSE: 1.0140\n",
      "RMSE: 1.0146\n",
      "RMSE: 1.0142\n",
      "RMSE: 1.0130\n",
      "RMSE: 1.0138\n",
      "RMSE: 1.0160\n",
      "RMSE: 1.0163\n",
      "RMSE: 1.0174\n",
      "RMSE: 1.0141\n",
      "RMSE: 1.0133\n",
      "RMSE: 1.0142\n",
      "RMSE: 1.0159\n",
      "RMSE: 1.0129\n",
      "RMSE: 1.0137\n",
      "RMSE: 1.0204\n",
      "RMSE: 1.0215\n",
      "RMSE: 1.0233\n",
      "RMSE: 1.0149\n",
      "RMSE: 1.0155\n",
      "RMSE: 1.0167\n",
      "RMSE: 1.0150\n",
      "RMSE: 1.0142\n",
      "RMSE: 1.0145\n",
      "RMSE: 1.0177\n",
      "RMSE: 1.0182\n",
      "RMSE: 1.0193\n",
      "RMSE: 1.0144\n",
      "RMSE: 1.0139\n",
      "RMSE: 1.0154\n",
      "RMSE: 1.0152\n",
      "RMSE: 1.0130\n",
      "RMSE: 1.0141\n",
      "RMSE: 1.0162\n",
      "RMSE: 1.0168\n",
      "RMSE: 1.0173\n",
      "RMSE: 1.0139\n",
      "RMSE: 1.0131\n",
      "RMSE: 1.0143\n",
      "RMSE: 1.0157\n",
      "RMSE: 1.0129\n",
      "RMSE: 1.0139\n",
      "RMSE: 1.0214\n",
      "RMSE: 1.0214\n",
      "RMSE: 1.0231\n",
      "RMSE: 1.0166\n",
      "RMSE: 1.0159\n",
      "RMSE: 1.0175\n",
      "RMSE: 1.0145\n",
      "RMSE: 1.0136\n",
      "RMSE: 1.0148\n",
      "RMSE: 1.0188\n",
      "RMSE: 1.0179\n",
      "RMSE: 1.0201\n",
      "RMSE: 1.0147\n",
      "RMSE: 1.0140\n",
      "RMSE: 1.0152\n",
      "RMSE: 1.0154\n",
      "RMSE: 1.0135\n",
      "RMSE: 1.0136\n",
      "RMSE: 1.0167\n",
      "RMSE: 1.0167\n",
      "RMSE: 1.0178\n",
      "RMSE: 1.0142\n",
      "RMSE: 1.0132\n",
      "RMSE: 1.0143\n",
      "RMSE: 1.0161\n",
      "RMSE: 1.0135\n",
      "RMSE: 1.0137\n"
     ]
    }
   ],
   "source": [
    "n_factors = [45,60,75]\n",
    "n_epochs = [20, 25, 30]\n",
    "lr_all = [0.003, 0.005, 0.007]\n",
    "reg_all = [0.1, 0.2, 0.3]\n",
    "# parameters = 3^4 =81\n",
    "from itertools import product\n",
    "val = [n_factors,n_epochs,lr_all,reg_all]\n",
    "para = []\n",
    "acc = []\n",
    "for i in product(*val):\n",
    "    para.append(i)\n",
    "    algo = SVD(n_factors = i[0], n_epochs = i[1], lr_all=i[2], reg_all=i[3] )\n",
    "    algo.fit(train)\n",
    "    pred = algo.test(test)\n",
    "    acc.append(accuracy.rmse(pred))"
   ]
  },
  {
   "cell_type": "markdown",
   "id": "1ff8f9d0",
   "metadata": {},
   "source": [
    "### The best  RMSE is 1.0129"
   ]
  },
  {
   "cell_type": "code",
   "execution_count": 77,
   "id": "d8c0eeb4",
   "metadata": {},
   "outputs": [
    {
     "data": {
      "text/plain": [
       "1.0128613232314272"
      ]
     },
     "execution_count": 77,
     "metadata": {},
     "output_type": "execute_result"
    }
   ],
   "source": [
    "min(acc)"
   ]
  },
  {
   "cell_type": "code",
   "execution_count": 82,
   "id": "722fb75b",
   "metadata": {},
   "outputs": [],
   "source": [
    "best = para[acc.index(min(acc))]"
   ]
  },
  {
   "cell_type": "markdown",
   "id": "4a6e1733",
   "metadata": {},
   "source": [
    "### Here we can see, the best parameter set gives Mean RMSE 1.0144 on 5-fold cross validation "
   ]
  },
  {
   "cell_type": "code",
   "execution_count": 83,
   "id": "f61e7011",
   "metadata": {},
   "outputs": [
    {
     "name": "stdout",
     "output_type": "stream",
     "text": [
      "Evaluating RMSE of algorithm SVD on 5 split(s).\n",
      "\n",
      "                  Fold 1  Fold 2  Fold 3  Fold 4  Fold 5  Mean    Std     \n",
      "RMSE (testset)    1.0225  1.0153  1.0082  1.0142  1.0118  1.0144  0.0047  \n",
      "Fit time          3.71    3.54    3.45    3.88    3.63    3.64    0.15    \n",
      "Test time         0.08    0.15    0.08    0.16    0.08    0.11    0.04    \n"
     ]
    }
   ],
   "source": [
    "algo = SVD(n_factors = best[0], n_epochs = best[1], lr_all = best[2], reg_all = best[3] )\n",
    "\n",
    "SVD_best = cross_validate(algo, data, measures=['RMSE'], cv=5, verbose=True)"
   ]
  },
  {
   "cell_type": "markdown",
   "id": "1eb07642",
   "metadata": {},
   "source": [
    "### Then Try the same thing with SVD++"
   ]
  },
  {
   "cell_type": "code",
   "execution_count": 85,
   "id": "5f2526eb",
   "metadata": {},
   "outputs": [],
   "source": [
    "n_factors = [45,60,75]\n",
    "n_epochs = [10, 15, 20]\n",
    "lr_all = [0.009,0.011,0.013]\n",
    "reg_all = [0.1, 0.2, 0.3]\n",
    "# parameters = 3^4 =81\n",
    "from itertools import product\n",
    "val = [n_factors,n_epochs,lr_all,reg_all]\n",
    "para = []\n",
    "acc = []\n",
    "for i in product(*val):\n",
    "    para.append(i)\n",
    "    algo = SVDpp(n_factors = i[0], n_epochs = i[1], lr_all=i[2], reg_all=i[3] )\n",
    "    algo.fit(train)\n",
    "    pred = algo.test(test)\n",
    "    acc.append(accuracy.rmse(pred))"
   ]
  },
  {
   "cell_type": "markdown",
   "id": "2b3b4c3d",
   "metadata": {},
   "source": [
    "### The best RMSE for SVD++ is 1.0164"
   ]
  },
  {
   "cell_type": "code",
   "execution_count": 129,
   "id": "4d9437e9",
   "metadata": {},
   "outputs": [
    {
     "data": {
      "text/plain": [
       "1.0163515956283986"
      ]
     },
     "execution_count": 129,
     "metadata": {},
     "output_type": "execute_result"
    }
   ],
   "source": [
    "min(acc)"
   ]
  },
  {
   "cell_type": "code",
   "execution_count": 130,
   "id": "bae86591",
   "metadata": {},
   "outputs": [
    {
     "name": "stdout",
     "output_type": "stream",
     "text": [
      "(60, 20, 0.009, 0.2)\n"
     ]
    }
   ],
   "source": [
    "best = para[acc.index(min(acc))]\n",
    "best"
   ]
  },
  {
   "cell_type": "code",
   "execution_count": 133,
   "id": "d85e9d39",
   "metadata": {},
   "outputs": [],
   "source": [
    "algo = SVDpp(n_factors = best[0], n_epochs = best[1], lr_all = best[2], reg_all = best[3] )\n",
    "\n",
    "SVDpp_best = cross_validate(algo, data, measures=['RMSE'], cv=5, verbose=True)"
   ]
  },
  {
   "cell_type": "markdown",
   "id": "30539a78",
   "metadata": {},
   "source": [
    "Evaluating RMSE of algorithm SVDpp on 5 split(s).\n",
    "\n",
    "                  Fold 1  Fold 2  Fold 3  Fold 4  Fold 5  Mean    Std     \n",
    "RMSE (testset)    1.0208  1.0151  1.0070  1.0123  1.0187  1.0148  0.0049  \n",
    "Fit time          79.54   79.87   79.89   80.12   80.61   80.01   0.35    \n",
    "Test time         0.71    0.73    0.85    0.73    0.93    0.79    0.09 "
   ]
  },
  {
   "cell_type": "markdown",
   "id": "5b0d7af3",
   "metadata": {},
   "source": [
    "### The best RMSE for SVD++ is 1.0148 "
   ]
  },
  {
   "cell_type": "markdown",
   "id": "43164319",
   "metadata": {},
   "source": [
    "### For KNN, compare all three algorithms (KNN Baseline, KNN with means, KNN with Z-score) with different k "
   ]
  },
  {
   "cell_type": "code",
   "execution_count": 93,
   "id": "eceba112",
   "metadata": {},
   "outputs": [
    {
     "name": "stdout",
     "output_type": "stream",
     "text": [
      "Estimating biases using als...\n",
      "Computing the msd similarity matrix...\n",
      "Done computing similarity matrix.\n",
      "RMSE: 1.3212\n",
      "Computing the msd similarity matrix...\n",
      "Done computing similarity matrix.\n",
      "RMSE: 1.3135\n",
      "Computing the msd similarity matrix...\n",
      "Done computing similarity matrix.\n",
      "RMSE: 1.3251\n",
      "Estimating biases using als...\n",
      "Computing the msd similarity matrix...\n",
      "Done computing similarity matrix.\n",
      "RMSE: 1.1844\n",
      "Computing the msd similarity matrix...\n",
      "Done computing similarity matrix.\n",
      "RMSE: 1.1942\n",
      "Computing the msd similarity matrix...\n",
      "Done computing similarity matrix.\n",
      "RMSE: 1.2067\n",
      "Estimating biases using als...\n",
      "Computing the msd similarity matrix...\n",
      "Done computing similarity matrix.\n",
      "RMSE: 1.1353\n",
      "Computing the msd similarity matrix...\n",
      "Done computing similarity matrix.\n",
      "RMSE: 1.1501\n",
      "Computing the msd similarity matrix...\n",
      "Done computing similarity matrix.\n",
      "RMSE: 1.1601\n",
      "Estimating biases using als...\n",
      "Computing the msd similarity matrix...\n",
      "Done computing similarity matrix.\n",
      "RMSE: 1.1100\n",
      "Computing the msd similarity matrix...\n",
      "Done computing similarity matrix.\n",
      "RMSE: 1.1269\n",
      "Computing the msd similarity matrix...\n",
      "Done computing similarity matrix.\n",
      "RMSE: 1.1355\n",
      "Estimating biases using als...\n",
      "Computing the msd similarity matrix...\n",
      "Done computing similarity matrix.\n",
      "RMSE: 1.0953\n",
      "Computing the msd similarity matrix...\n",
      "Done computing similarity matrix.\n",
      "RMSE: 1.1137\n",
      "Computing the msd similarity matrix...\n",
      "Done computing similarity matrix.\n",
      "RMSE: 1.1221\n",
      "Estimating biases using als...\n",
      "Computing the msd similarity matrix...\n",
      "Done computing similarity matrix.\n",
      "RMSE: 1.0860\n",
      "Computing the msd similarity matrix...\n",
      "Done computing similarity matrix.\n",
      "RMSE: 1.1052\n",
      "Computing the msd similarity matrix...\n",
      "Done computing similarity matrix.\n",
      "RMSE: 1.1134\n",
      "Estimating biases using als...\n",
      "Computing the msd similarity matrix...\n",
      "Done computing similarity matrix.\n",
      "RMSE: 1.0806\n",
      "Computing the msd similarity matrix...\n",
      "Done computing similarity matrix.\n",
      "RMSE: 1.1004\n",
      "Computing the msd similarity matrix...\n",
      "Done computing similarity matrix.\n",
      "RMSE: 1.1085\n",
      "Estimating biases using als...\n",
      "Computing the msd similarity matrix...\n",
      "Done computing similarity matrix.\n",
      "RMSE: 1.0763\n",
      "Computing the msd similarity matrix...\n",
      "Done computing similarity matrix.\n",
      "RMSE: 1.0965\n",
      "Computing the msd similarity matrix...\n",
      "Done computing similarity matrix.\n",
      "RMSE: 1.1043\n",
      "Estimating biases using als...\n",
      "Computing the msd similarity matrix...\n",
      "Done computing similarity matrix.\n",
      "RMSE: 1.0736\n",
      "Computing the msd similarity matrix...\n",
      "Done computing similarity matrix.\n",
      "RMSE: 1.0939\n",
      "Computing the msd similarity matrix...\n",
      "Done computing similarity matrix.\n",
      "RMSE: 1.1017\n",
      "Estimating biases using als...\n",
      "Computing the msd similarity matrix...\n",
      "Done computing similarity matrix.\n",
      "RMSE: 1.0706\n",
      "Computing the msd similarity matrix...\n",
      "Done computing similarity matrix.\n",
      "RMSE: 1.0911\n",
      "Computing the msd similarity matrix...\n",
      "Done computing similarity matrix.\n",
      "RMSE: 1.0987\n",
      "Estimating biases using als...\n",
      "Computing the msd similarity matrix...\n",
      "Done computing similarity matrix.\n",
      "RMSE: 1.0691\n",
      "Computing the msd similarity matrix...\n",
      "Done computing similarity matrix.\n",
      "RMSE: 1.0897\n",
      "Computing the msd similarity matrix...\n",
      "Done computing similarity matrix.\n",
      "RMSE: 1.0971\n",
      "Estimating biases using als...\n",
      "Computing the msd similarity matrix...\n",
      "Done computing similarity matrix.\n",
      "RMSE: 1.0679\n",
      "Computing the msd similarity matrix...\n",
      "Done computing similarity matrix.\n",
      "RMSE: 1.0885\n",
      "Computing the msd similarity matrix...\n",
      "Done computing similarity matrix.\n",
      "RMSE: 1.0958\n",
      "Estimating biases using als...\n",
      "Computing the msd similarity matrix...\n",
      "Done computing similarity matrix.\n",
      "RMSE: 1.0664\n",
      "Computing the msd similarity matrix...\n",
      "Done computing similarity matrix.\n",
      "RMSE: 1.0871\n",
      "Computing the msd similarity matrix...\n",
      "Done computing similarity matrix.\n",
      "RMSE: 1.0943\n",
      "Estimating biases using als...\n",
      "Computing the msd similarity matrix...\n",
      "Done computing similarity matrix.\n",
      "RMSE: 1.0655\n",
      "Computing the msd similarity matrix...\n",
      "Done computing similarity matrix.\n",
      "RMSE: 1.0863\n",
      "Computing the msd similarity matrix...\n",
      "Done computing similarity matrix.\n",
      "RMSE: 1.0932\n",
      "Estimating biases using als...\n",
      "Computing the msd similarity matrix...\n",
      "Done computing similarity matrix.\n",
      "RMSE: 1.0649\n",
      "Computing the msd similarity matrix...\n",
      "Done computing similarity matrix.\n",
      "RMSE: 1.0857\n",
      "Computing the msd similarity matrix...\n",
      "Done computing similarity matrix.\n",
      "RMSE: 1.0925\n",
      "Estimating biases using als...\n",
      "Computing the msd similarity matrix...\n",
      "Done computing similarity matrix.\n",
      "RMSE: 1.0641\n",
      "Computing the msd similarity matrix...\n",
      "Done computing similarity matrix.\n",
      "RMSE: 1.0850\n",
      "Computing the msd similarity matrix...\n",
      "Done computing similarity matrix.\n",
      "RMSE: 1.0918\n",
      "Estimating biases using als...\n",
      "Computing the msd similarity matrix...\n",
      "Done computing similarity matrix.\n",
      "RMSE: 1.0634\n",
      "Computing the msd similarity matrix...\n",
      "Done computing similarity matrix.\n",
      "RMSE: 1.0843\n",
      "Computing the msd similarity matrix...\n",
      "Done computing similarity matrix.\n",
      "RMSE: 1.0911\n",
      "Estimating biases using als...\n",
      "Computing the msd similarity matrix...\n",
      "Done computing similarity matrix.\n",
      "RMSE: 1.0627\n",
      "Computing the msd similarity matrix...\n",
      "Done computing similarity matrix.\n",
      "RMSE: 1.0837\n",
      "Computing the msd similarity matrix...\n",
      "Done computing similarity matrix.\n",
      "RMSE: 1.0904\n",
      "Estimating biases using als...\n",
      "Computing the msd similarity matrix...\n",
      "Done computing similarity matrix.\n",
      "RMSE: 1.0623\n",
      "Computing the msd similarity matrix...\n",
      "Done computing similarity matrix.\n",
      "RMSE: 1.0833\n",
      "Computing the msd similarity matrix...\n",
      "Done computing similarity matrix.\n",
      "RMSE: 1.0900\n",
      "Estimating biases using als...\n",
      "Computing the msd similarity matrix...\n",
      "Done computing similarity matrix.\n",
      "RMSE: 1.0619\n",
      "Computing the msd similarity matrix...\n",
      "Done computing similarity matrix.\n",
      "RMSE: 1.0829\n",
      "Computing the msd similarity matrix...\n",
      "Done computing similarity matrix.\n",
      "RMSE: 1.0897\n",
      "Estimating biases using als...\n",
      "Computing the msd similarity matrix...\n",
      "Done computing similarity matrix.\n",
      "RMSE: 1.0616\n",
      "Computing the msd similarity matrix...\n",
      "Done computing similarity matrix.\n",
      "RMSE: 1.0825\n",
      "Computing the msd similarity matrix...\n",
      "Done computing similarity matrix.\n",
      "RMSE: 1.0892\n",
      "Estimating biases using als...\n",
      "Computing the msd similarity matrix...\n",
      "Done computing similarity matrix.\n",
      "RMSE: 1.0614\n",
      "Computing the msd similarity matrix...\n",
      "Done computing similarity matrix.\n",
      "RMSE: 1.0824\n",
      "Computing the msd similarity matrix...\n",
      "Done computing similarity matrix.\n",
      "RMSE: 1.0891\n",
      "Estimating biases using als...\n",
      "Computing the msd similarity matrix...\n",
      "Done computing similarity matrix.\n",
      "RMSE: 1.0611\n",
      "Computing the msd similarity matrix...\n",
      "Done computing similarity matrix.\n",
      "RMSE: 1.0821\n",
      "Computing the msd similarity matrix...\n",
      "Done computing similarity matrix.\n",
      "RMSE: 1.0888\n",
      "Estimating biases using als...\n",
      "Computing the msd similarity matrix...\n",
      "Done computing similarity matrix.\n",
      "RMSE: 1.0608\n",
      "Computing the msd similarity matrix...\n",
      "Done computing similarity matrix.\n",
      "RMSE: 1.0818\n",
      "Computing the msd similarity matrix...\n",
      "Done computing similarity matrix.\n",
      "RMSE: 1.0884\n",
      "Estimating biases using als...\n",
      "Computing the msd similarity matrix...\n",
      "Done computing similarity matrix.\n",
      "RMSE: 1.0607\n",
      "Computing the msd similarity matrix...\n",
      "Done computing similarity matrix.\n",
      "RMSE: 1.0817\n",
      "Computing the msd similarity matrix...\n",
      "Done computing similarity matrix.\n",
      "RMSE: 1.0883\n",
      "Estimating biases using als...\n",
      "Computing the msd similarity matrix...\n",
      "Done computing similarity matrix.\n",
      "RMSE: 1.0604\n",
      "Computing the msd similarity matrix...\n",
      "Done computing similarity matrix.\n",
      "RMSE: 1.0814\n",
      "Computing the msd similarity matrix...\n",
      "Done computing similarity matrix.\n",
      "RMSE: 1.0880\n",
      "Estimating biases using als...\n",
      "Computing the msd similarity matrix...\n",
      "Done computing similarity matrix.\n",
      "RMSE: 1.0603\n",
      "Computing the msd similarity matrix...\n",
      "Done computing similarity matrix.\n",
      "RMSE: 1.0813\n",
      "Computing the msd similarity matrix...\n",
      "Done computing similarity matrix.\n",
      "RMSE: 1.0880\n",
      "Estimating biases using als...\n",
      "Computing the msd similarity matrix...\n",
      "Done computing similarity matrix.\n",
      "RMSE: 1.0602\n",
      "Computing the msd similarity matrix...\n",
      "Done computing similarity matrix.\n",
      "RMSE: 1.0812\n",
      "Computing the msd similarity matrix...\n",
      "Done computing similarity matrix.\n",
      "RMSE: 1.0878\n",
      "Estimating biases using als...\n",
      "Computing the msd similarity matrix...\n",
      "Done computing similarity matrix.\n"
     ]
    },
    {
     "name": "stdout",
     "output_type": "stream",
     "text": [
      "RMSE: 1.0601\n",
      "Computing the msd similarity matrix...\n",
      "Done computing similarity matrix.\n",
      "RMSE: 1.0812\n",
      "Computing the msd similarity matrix...\n",
      "Done computing similarity matrix.\n",
      "RMSE: 1.0878\n",
      "Estimating biases using als...\n",
      "Computing the msd similarity matrix...\n",
      "Done computing similarity matrix.\n",
      "RMSE: 1.0601\n",
      "Computing the msd similarity matrix...\n",
      "Done computing similarity matrix.\n",
      "RMSE: 1.0811\n",
      "Computing the msd similarity matrix...\n",
      "Done computing similarity matrix.\n",
      "RMSE: 1.0878\n",
      "Estimating biases using als...\n",
      "Computing the msd similarity matrix...\n",
      "Done computing similarity matrix.\n",
      "RMSE: 1.0600\n",
      "Computing the msd similarity matrix...\n",
      "Done computing similarity matrix.\n",
      "RMSE: 1.0810\n",
      "Computing the msd similarity matrix...\n",
      "Done computing similarity matrix.\n",
      "RMSE: 1.0877\n",
      "Estimating biases using als...\n",
      "Computing the msd similarity matrix...\n",
      "Done computing similarity matrix.\n",
      "RMSE: 1.0599\n",
      "Computing the msd similarity matrix...\n",
      "Done computing similarity matrix.\n",
      "RMSE: 1.0809\n",
      "Computing the msd similarity matrix...\n",
      "Done computing similarity matrix.\n",
      "RMSE: 1.0875\n",
      "Estimating biases using als...\n",
      "Computing the msd similarity matrix...\n",
      "Done computing similarity matrix.\n",
      "RMSE: 1.0598\n",
      "Computing the msd similarity matrix...\n",
      "Done computing similarity matrix.\n",
      "RMSE: 1.0808\n",
      "Computing the msd similarity matrix...\n",
      "Done computing similarity matrix.\n",
      "RMSE: 1.0874\n",
      "Estimating biases using als...\n",
      "Computing the msd similarity matrix...\n",
      "Done computing similarity matrix.\n",
      "RMSE: 1.0597\n",
      "Computing the msd similarity matrix...\n",
      "Done computing similarity matrix.\n",
      "RMSE: 1.0807\n",
      "Computing the msd similarity matrix...\n",
      "Done computing similarity matrix.\n",
      "RMSE: 1.0873\n",
      "Estimating biases using als...\n",
      "Computing the msd similarity matrix...\n",
      "Done computing similarity matrix.\n",
      "RMSE: 1.0596\n",
      "Computing the msd similarity matrix...\n",
      "Done computing similarity matrix.\n",
      "RMSE: 1.0807\n",
      "Computing the msd similarity matrix...\n",
      "Done computing similarity matrix.\n",
      "RMSE: 1.0873\n",
      "Estimating biases using als...\n",
      "Computing the msd similarity matrix...\n",
      "Done computing similarity matrix.\n",
      "RMSE: 1.0596\n",
      "Computing the msd similarity matrix...\n",
      "Done computing similarity matrix.\n",
      "RMSE: 1.0806\n",
      "Computing the msd similarity matrix...\n",
      "Done computing similarity matrix.\n",
      "RMSE: 1.0872\n",
      "Estimating biases using als...\n",
      "Computing the msd similarity matrix...\n",
      "Done computing similarity matrix.\n",
      "RMSE: 1.0596\n",
      "Computing the msd similarity matrix...\n",
      "Done computing similarity matrix.\n",
      "RMSE: 1.0806\n",
      "Computing the msd similarity matrix...\n",
      "Done computing similarity matrix.\n",
      "RMSE: 1.0872\n",
      "Estimating biases using als...\n",
      "Computing the msd similarity matrix...\n",
      "Done computing similarity matrix.\n",
      "RMSE: 1.0595\n",
      "Computing the msd similarity matrix...\n",
      "Done computing similarity matrix.\n",
      "RMSE: 1.0805\n",
      "Computing the msd similarity matrix...\n",
      "Done computing similarity matrix.\n",
      "RMSE: 1.0871\n",
      "Estimating biases using als...\n",
      "Computing the msd similarity matrix...\n",
      "Done computing similarity matrix.\n",
      "RMSE: 1.0594\n",
      "Computing the msd similarity matrix...\n",
      "Done computing similarity matrix.\n",
      "RMSE: 1.0804\n",
      "Computing the msd similarity matrix...\n",
      "Done computing similarity matrix.\n",
      "RMSE: 1.0871\n",
      "Estimating biases using als...\n",
      "Computing the msd similarity matrix...\n",
      "Done computing similarity matrix.\n",
      "RMSE: 1.0594\n",
      "Computing the msd similarity matrix...\n",
      "Done computing similarity matrix.\n",
      "RMSE: 1.0804\n",
      "Computing the msd similarity matrix...\n",
      "Done computing similarity matrix.\n",
      "RMSE: 1.0870\n",
      "Estimating biases using als...\n",
      "Computing the msd similarity matrix...\n",
      "Done computing similarity matrix.\n",
      "RMSE: 1.0593\n",
      "Computing the msd similarity matrix...\n",
      "Done computing similarity matrix.\n",
      "RMSE: 1.0803\n",
      "Computing the msd similarity matrix...\n",
      "Done computing similarity matrix.\n",
      "RMSE: 1.0869\n",
      "Estimating biases using als...\n",
      "Computing the msd similarity matrix...\n",
      "Done computing similarity matrix.\n",
      "RMSE: 1.0593\n",
      "Computing the msd similarity matrix...\n",
      "Done computing similarity matrix.\n",
      "RMSE: 1.0803\n",
      "Computing the msd similarity matrix...\n",
      "Done computing similarity matrix.\n",
      "RMSE: 1.0869\n",
      "Estimating biases using als...\n",
      "Computing the msd similarity matrix...\n",
      "Done computing similarity matrix.\n",
      "RMSE: 1.0593\n",
      "Computing the msd similarity matrix...\n",
      "Done computing similarity matrix.\n",
      "RMSE: 1.0803\n",
      "Computing the msd similarity matrix...\n",
      "Done computing similarity matrix.\n",
      "RMSE: 1.0869\n",
      "Estimating biases using als...\n",
      "Computing the msd similarity matrix...\n",
      "Done computing similarity matrix.\n",
      "RMSE: 1.0592\n",
      "Computing the msd similarity matrix...\n",
      "Done computing similarity matrix.\n",
      "RMSE: 1.0803\n",
      "Computing the msd similarity matrix...\n",
      "Done computing similarity matrix.\n",
      "RMSE: 1.0869\n",
      "Estimating biases using als...\n",
      "Computing the msd similarity matrix...\n",
      "Done computing similarity matrix.\n",
      "RMSE: 1.0592\n",
      "Computing the msd similarity matrix...\n",
      "Done computing similarity matrix.\n",
      "RMSE: 1.0803\n",
      "Computing the msd similarity matrix...\n",
      "Done computing similarity matrix.\n",
      "RMSE: 1.0869\n",
      "Estimating biases using als...\n",
      "Computing the msd similarity matrix...\n",
      "Done computing similarity matrix.\n",
      "RMSE: 1.0592\n",
      "Computing the msd similarity matrix...\n",
      "Done computing similarity matrix.\n",
      "RMSE: 1.0802\n",
      "Computing the msd similarity matrix...\n",
      "Done computing similarity matrix.\n",
      "RMSE: 1.0869\n",
      "Estimating biases using als...\n",
      "Computing the msd similarity matrix...\n",
      "Done computing similarity matrix.\n",
      "RMSE: 1.0591\n",
      "Computing the msd similarity matrix...\n",
      "Done computing similarity matrix.\n",
      "RMSE: 1.0802\n",
      "Computing the msd similarity matrix...\n",
      "Done computing similarity matrix.\n",
      "RMSE: 1.0868\n",
      "Estimating biases using als...\n",
      "Computing the msd similarity matrix...\n",
      "Done computing similarity matrix.\n",
      "RMSE: 1.0591\n",
      "Computing the msd similarity matrix...\n",
      "Done computing similarity matrix.\n",
      "RMSE: 1.0802\n",
      "Computing the msd similarity matrix...\n",
      "Done computing similarity matrix.\n",
      "RMSE: 1.0868\n",
      "Estimating biases using als...\n",
      "Computing the msd similarity matrix...\n",
      "Done computing similarity matrix.\n",
      "RMSE: 1.0591\n",
      "Computing the msd similarity matrix...\n",
      "Done computing similarity matrix.\n",
      "RMSE: 1.0802\n",
      "Computing the msd similarity matrix...\n",
      "Done computing similarity matrix.\n",
      "RMSE: 1.0868\n",
      "Estimating biases using als...\n",
      "Computing the msd similarity matrix...\n",
      "Done computing similarity matrix.\n",
      "RMSE: 1.0591\n",
      "Computing the msd similarity matrix...\n",
      "Done computing similarity matrix.\n",
      "RMSE: 1.0801\n",
      "Computing the msd similarity matrix...\n",
      "Done computing similarity matrix.\n",
      "RMSE: 1.0868\n"
     ]
    }
   ],
   "source": [
    "acc1,acc2,acc3 = [],[],[]\n",
    "\n",
    "for k in range(1,51):\n",
    "    algo1 = KNNBaseline(k=k)\n",
    "    algo1.fit(train)\n",
    "    pred1 = algo1.test(test)\n",
    "    acc1.append(accuracy.rmse(pred1))\n",
    "    \n",
    "    algo2 = KNNWithMeans(k=k)\n",
    "    algo2.fit(train)\n",
    "    pred2 = algo2.test(test)\n",
    "    acc2.append(accuracy.rmse(pred2))\n",
    "    \n",
    "    algo3 = KNNWithZScore(k=k)\n",
    "    algo3.fit(train)\n",
    "    pred3 = algo3.test(test)\n",
    "    acc3.append(accuracy.rmse(pred3))\n",
    "\n",
    "    "
   ]
  },
  {
   "cell_type": "code",
   "execution_count": 94,
   "id": "71c4f929",
   "metadata": {},
   "outputs": [
    {
     "name": "stdout",
     "output_type": "stream",
     "text": [
      "1.0590937787561099\n",
      "1.080128771708165\n",
      "1.0868057393481272\n"
     ]
    }
   ],
   "source": [
    "print(min(acc1))\n",
    "print(min(acc2))\n",
    "print(min(acc3))"
   ]
  },
  {
   "cell_type": "code",
   "execution_count": 106,
   "id": "08f31f92",
   "metadata": {},
   "outputs": [
    {
     "name": "stdout",
     "output_type": "stream",
     "text": [
      "49\n",
      "49\n",
      "49\n"
     ]
    }
   ],
   "source": [
    "print(acc1.index(min(acc1)))\n",
    "print(acc2.index(min(acc2)))\n",
    "print(acc3.index(min(acc3)))"
   ]
  },
  {
   "cell_type": "markdown",
   "id": "944a3a2b",
   "metadata": {},
   "source": [
    "### For all these three, k = 50 has the best RMSE. Since the best k is the max k in the parameter set, try to enlarge k and test the RMSE"
   ]
  },
  {
   "cell_type": "code",
   "execution_count": 107,
   "id": "9d38d0e4",
   "metadata": {},
   "outputs": [
    {
     "name": "stdout",
     "output_type": "stream",
     "text": [
      "Estimating biases using als...\n",
      "Computing the msd similarity matrix...\n",
      "Done computing similarity matrix.\n",
      "RMSE: 1.0591\n",
      "Computing the msd similarity matrix...\n",
      "Done computing similarity matrix.\n",
      "RMSE: 1.0801\n",
      "Computing the msd similarity matrix...\n",
      "Done computing similarity matrix.\n",
      "RMSE: 1.0868\n",
      "Estimating biases using als...\n",
      "Computing the msd similarity matrix...\n",
      "Done computing similarity matrix.\n",
      "RMSE: 1.0591\n",
      "Computing the msd similarity matrix...\n",
      "Done computing similarity matrix.\n",
      "RMSE: 1.0801\n",
      "Computing the msd similarity matrix...\n",
      "Done computing similarity matrix.\n",
      "RMSE: 1.0868\n",
      "Estimating biases using als...\n",
      "Computing the msd similarity matrix...\n",
      "Done computing similarity matrix.\n",
      "RMSE: 1.0590\n",
      "Computing the msd similarity matrix...\n",
      "Done computing similarity matrix.\n",
      "RMSE: 1.0800\n",
      "Computing the msd similarity matrix...\n",
      "Done computing similarity matrix.\n",
      "RMSE: 1.0867\n",
      "Estimating biases using als...\n",
      "Computing the msd similarity matrix...\n",
      "Done computing similarity matrix.\n",
      "RMSE: 1.0590\n",
      "Computing the msd similarity matrix...\n",
      "Done computing similarity matrix.\n",
      "RMSE: 1.0800\n",
      "Computing the msd similarity matrix...\n",
      "Done computing similarity matrix.\n",
      "RMSE: 1.0867\n",
      "Estimating biases using als...\n",
      "Computing the msd similarity matrix...\n",
      "Done computing similarity matrix.\n",
      "RMSE: 1.0589\n",
      "Computing the msd similarity matrix...\n",
      "Done computing similarity matrix.\n",
      "RMSE: 1.0800\n",
      "Computing the msd similarity matrix...\n",
      "Done computing similarity matrix.\n",
      "RMSE: 1.0866\n",
      "Estimating biases using als...\n",
      "Computing the msd similarity matrix...\n",
      "Done computing similarity matrix.\n",
      "RMSE: 1.0589\n",
      "Computing the msd similarity matrix...\n",
      "Done computing similarity matrix.\n",
      "RMSE: 1.0799\n",
      "Computing the msd similarity matrix...\n",
      "Done computing similarity matrix.\n",
      "RMSE: 1.0866\n"
     ]
    }
   ],
   "source": [
    "l = list(range(50,80,5))\n",
    "acc21,acc22,acc23 = [],[],[]\n",
    "for k in range(50,80,5):\n",
    "    algo1 = KNNBaseline(k=k)\n",
    "    algo1.fit(train)\n",
    "    pred1 = algo1.test(test)\n",
    "    acc21.append(accuracy.rmse(pred1))\n",
    "    \n",
    "    algo2 = KNNWithMeans(k=k)\n",
    "    algo2.fit(train)\n",
    "    pred2 = algo2.test(test)\n",
    "    acc22.append(accuracy.rmse(pred2))\n",
    "    \n",
    "    algo3 = KNNWithZScore(k=k)\n",
    "    algo3.fit(train)\n",
    "    pred3 = algo3.test(test)\n",
    "    acc23.append(accuracy.rmse(pred3))\n"
   ]
  },
  {
   "cell_type": "code",
   "execution_count": 108,
   "id": "bafa8507",
   "metadata": {},
   "outputs": [
    {
     "name": "stdout",
     "output_type": "stream",
     "text": [
      "1.0589184038706616\n",
      "1.0799271512699997\n",
      "1.0866214464711343\n",
      "5\n",
      "5\n",
      "5\n"
     ]
    }
   ],
   "source": [
    "print(min(acc21))\n",
    "print(min(acc22))\n",
    "print(min(acc23))\n",
    "print(acc21.index(min(acc21)))\n",
    "print(acc22.index(min(acc22)))\n",
    "print(acc23.index(min(acc23)))"
   ]
  },
  {
   "cell_type": "code",
   "execution_count": 110,
   "id": "2ac5abd7",
   "metadata": {},
   "outputs": [
    {
     "data": {
      "text/plain": [
       "75"
      ]
     },
     "execution_count": 110,
     "metadata": {},
     "output_type": "execute_result"
    }
   ],
   "source": [
    "l[5]"
   ]
  },
  {
   "cell_type": "markdown",
   "id": "0ad80980",
   "metadata": {},
   "source": [
    "### We can see, k = 75 has the best performance, but the difference is less than 0.3%.  Next part is an experiment for narrow down best k "
   ]
  },
  {
   "cell_type": "code",
   "execution_count": 111,
   "id": "51fffb4b",
   "metadata": {},
   "outputs": [
    {
     "name": "stdout",
     "output_type": "stream",
     "text": [
      "Estimating biases using als...\n",
      "Computing the msd similarity matrix...\n",
      "Done computing similarity matrix.\n",
      "RMSE: 1.0589\n",
      "Estimating biases using als...\n",
      "Computing the msd similarity matrix...\n",
      "Done computing similarity matrix.\n",
      "RMSE: 1.0589\n",
      "Estimating biases using als...\n",
      "Computing the msd similarity matrix...\n",
      "Done computing similarity matrix.\n",
      "RMSE: 1.0589\n",
      "Estimating biases using als...\n",
      "Computing the msd similarity matrix...\n",
      "Done computing similarity matrix.\n",
      "RMSE: 1.0589\n",
      "Estimating biases using als...\n",
      "Computing the msd similarity matrix...\n",
      "Done computing similarity matrix.\n",
      "RMSE: 1.0589\n",
      "Estimating biases using als...\n",
      "Computing the msd similarity matrix...\n",
      "Done computing similarity matrix.\n",
      "RMSE: 1.0589\n",
      "Estimating biases using als...\n",
      "Computing the msd similarity matrix...\n",
      "Done computing similarity matrix.\n",
      "RMSE: 1.0589\n",
      "Estimating biases using als...\n",
      "Computing the msd similarity matrix...\n",
      "Done computing similarity matrix.\n",
      "RMSE: 1.0589\n",
      "Estimating biases using als...\n",
      "Computing the msd similarity matrix...\n",
      "Done computing similarity matrix.\n",
      "RMSE: 1.0589\n",
      "Estimating biases using als...\n",
      "Computing the msd similarity matrix...\n",
      "Done computing similarity matrix.\n",
      "RMSE: 1.0589\n"
     ]
    }
   ],
   "source": [
    "l3 = list(range(70,80))\n",
    "acc31 = []\n",
    "for k in range(70,80):\n",
    "    algo1 = KNNBaseline(k=k)\n",
    "    algo1.fit(train)\n",
    "    pred1 = algo1.test(test)\n",
    "    acc31.append(accuracy.rmse(pred1))\n",
    "    "
   ]
  },
  {
   "cell_type": "code",
   "execution_count": 112,
   "id": "c919bd72",
   "metadata": {},
   "outputs": [
    {
     "name": "stdout",
     "output_type": "stream",
     "text": [
      "1.0588894944659317\n",
      "9\n"
     ]
    }
   ],
   "source": [
    "print(min(acc31))\n",
    "print(acc31.index(min(acc31)))"
   ]
  },
  {
   "cell_type": "code",
   "execution_count": 113,
   "id": "1e4d4227",
   "metadata": {},
   "outputs": [
    {
     "data": {
      "text/plain": [
       "79"
      ]
     },
     "execution_count": 113,
     "metadata": {},
     "output_type": "execute_result"
    }
   ],
   "source": [
    "l3[9]"
   ]
  },
  {
   "cell_type": "code",
   "execution_count": 121,
   "id": "0eb5530d",
   "metadata": {
    "scrolled": true
   },
   "outputs": [
    {
     "name": "stdout",
     "output_type": "stream",
     "text": [
      "Estimating biases using als...\n",
      "Computing the msd similarity matrix...\n",
      "Done computing similarity matrix.\n",
      "Estimating biases using als...\n",
      "Computing the msd similarity matrix...\n",
      "Done computing similarity matrix.\n",
      "Estimating biases using als...\n",
      "Computing the msd similarity matrix...\n",
      "Done computing similarity matrix.\n",
      "Estimating biases using als...\n",
      "Computing the msd similarity matrix...\n",
      "Done computing similarity matrix.\n",
      "Estimating biases using als...\n",
      "Computing the msd similarity matrix...\n",
      "Done computing similarity matrix.\n",
      "Evaluating RMSE of algorithm KNNBaseline on 5 split(s).\n",
      "\n",
      "                  Fold 1  Fold 2  Fold 3  Fold 4  Fold 5  Mean    Std     \n",
      "RMSE (testset)    1.0602  1.0592  1.0512  1.0623  1.0636  1.0593  0.0043  \n",
      "Fit time          0.93    0.91    0.97    0.93    0.92    0.93    0.02    \n",
      "Test time         1.36    1.40    1.36    1.32    1.39    1.37    0.03    \n"
     ]
    }
   ],
   "source": [
    "algo = KNNBaseline(k=75 )\n",
    "\n",
    "KNN_best = cross_validate(algo, data, measures=['RMSE'], cv=5, verbose=True)"
   ]
  },
  {
   "cell_type": "markdown",
   "id": "b6dd531f",
   "metadata": {},
   "source": [
    "### As expected, the best perfomance for KNN inspired algorithms are KNN baseline and the best K is around 75 and best RMSE is 1.0593"
   ]
  },
  {
   "cell_type": "markdown",
   "id": "c2a35eff",
   "metadata": {},
   "source": [
    "### CoClustering "
   ]
  },
  {
   "cell_type": "code",
   "execution_count": null,
   "id": "29b98843",
   "metadata": {},
   "outputs": [],
   "source": [
    "# n_cltr_u (int) – Number of user clusters. Default is 3.\n",
    "# n_cltr_i (int) – Number of item clusters. Default is 3.\n",
    "# n_epochs (int) – Number of iteration of the optimization loop. Default is 20."
   ]
  },
  {
   "cell_type": "code",
   "execution_count": 117,
   "id": "ebe419c0",
   "metadata": {},
   "outputs": [
    {
     "name": "stderr",
     "output_type": "stream",
     "text": [
      "/var/folders/d4/s3dpbdr15qq9g4_2mn0lm1kc0000gn/T/ipykernel_13344/3284604495.py:12: DeprecationWarning: `np.int` is a deprecated alias for the builtin `int`. To silence this warning, use `int` by itself. Doing this will not modify any behavior and is safe. When replacing `np.int`, you may wish to use e.g. `np.int64` or `np.int32` to specify the precision. If you wish to review your current use, check the release note link for additional information.\n",
      "Deprecated in NumPy 1.20; for more details and guidance: https://numpy.org/devdocs/release/1.20.0-notes.html#deprecations\n",
      "  algo.fit(train)\n"
     ]
    },
    {
     "name": "stdout",
     "output_type": "stream",
     "text": [
      "RMSE: 1.0787\n",
      "RMSE: 1.0801\n",
      "RMSE: 1.0802\n",
      "RMSE: 1.0928\n",
      "RMSE: 1.0950\n",
      "RMSE: 1.0956\n",
      "RMSE: 1.0990\n",
      "RMSE: 1.0970\n",
      "RMSE: 1.1039\n",
      "RMSE: 1.1006\n",
      "RMSE: 1.1000\n",
      "RMSE: 1.1069\n",
      "RMSE: 1.1031\n",
      "RMSE: 1.1002\n",
      "RMSE: 1.1011\n",
      "RMSE: 1.1092\n",
      "RMSE: 1.1146\n",
      "RMSE: 1.1132\n",
      "RMSE: 1.1201\n",
      "RMSE: 1.1206\n",
      "RMSE: 1.1181\n",
      "RMSE: 1.1266\n",
      "RMSE: 1.1204\n",
      "RMSE: 1.1226\n",
      "RMSE: 1.1068\n",
      "RMSE: 1.1093\n",
      "RMSE: 1.1058\n",
      "RMSE: 1.1247\n",
      "RMSE: 1.1219\n",
      "RMSE: 1.1226\n",
      "RMSE: 1.1242\n",
      "RMSE: 1.1314\n",
      "RMSE: 1.1292\n",
      "RMSE: 1.1359\n",
      "RMSE: 1.1284\n",
      "RMSE: 1.1404\n",
      "RMSE: 1.1080\n",
      "RMSE: 1.1126\n",
      "RMSE: 1.1147\n",
      "RMSE: 1.1290\n",
      "RMSE: 1.1316\n",
      "RMSE: 1.1350\n",
      "RMSE: 1.1322\n",
      "RMSE: 1.1445\n",
      "RMSE: 1.1371\n",
      "RMSE: 1.1385\n",
      "RMSE: 1.1349\n",
      "RMSE: 1.1414\n"
     ]
    }
   ],
   "source": [
    "n_cltr_u  = [3,7,11,15]\n",
    "n_cltr_i = [3,7,11,15]\n",
    "n_epochs = [15, 20, 25]\n",
    "\n",
    "from itertools import product\n",
    "val = [n_cltr_u,n_cltr_i,n_epochs]\n",
    "para = []\n",
    "acc = []\n",
    "for i in product(*val):\n",
    "    para.append(i)\n",
    "    algo = CoClustering(n_cltr_u = i[0], n_cltr_i = i[1], n_epochs = i[2])\n",
    "    algo.fit(train)\n",
    "    pred = algo.test(test)\n",
    "    acc.append(accuracy.rmse(pred))"
   ]
  },
  {
   "cell_type": "code",
   "execution_count": 122,
   "id": "731c8ecf",
   "metadata": {},
   "outputs": [
    {
     "data": {
      "text/plain": [
       "1.0786870642272215"
      ]
     },
     "execution_count": 122,
     "metadata": {},
     "output_type": "execute_result"
    }
   ],
   "source": [
    "min(acc)"
   ]
  },
  {
   "cell_type": "code",
   "execution_count": 123,
   "id": "3a60e6c0",
   "metadata": {},
   "outputs": [
    {
     "data": {
      "text/plain": [
       "(3, 3, 15)"
      ]
     },
     "execution_count": 123,
     "metadata": {},
     "output_type": "execute_result"
    }
   ],
   "source": [
    "para[acc.index(min(acc))]"
   ]
  },
  {
   "cell_type": "markdown",
   "id": "24a66a54",
   "metadata": {},
   "source": [
    "### Move to smaller parameters due to the best result was at the smallest parameters "
   ]
  },
  {
   "cell_type": "code",
   "execution_count": 124,
   "id": "6e7f1092",
   "metadata": {},
   "outputs": [
    {
     "name": "stderr",
     "output_type": "stream",
     "text": [
      "/var/folders/d4/s3dpbdr15qq9g4_2mn0lm1kc0000gn/T/ipykernel_13344/1588292293.py:12: DeprecationWarning: `np.int` is a deprecated alias for the builtin `int`. To silence this warning, use `int` by itself. Doing this will not modify any behavior and is safe. When replacing `np.int`, you may wish to use e.g. `np.int64` or `np.int32` to specify the precision. If you wish to review your current use, check the release note link for additional information.\n",
      "Deprecated in NumPy 1.20; for more details and guidance: https://numpy.org/devdocs/release/1.20.0-notes.html#deprecations\n",
      "  algo.fit(train)\n"
     ]
    },
    {
     "name": "stdout",
     "output_type": "stream",
     "text": [
      "RMSE: 1.0483\n",
      "RMSE: 1.0483\n",
      "RMSE: 1.0483\n",
      "RMSE: 1.0483\n",
      "RMSE: 1.0483\n",
      "RMSE: 1.0483\n",
      "RMSE: 1.0483\n",
      "RMSE: 1.0483\n",
      "RMSE: 1.0483\n",
      "RMSE: 1.0483\n",
      "RMSE: 1.0483\n",
      "RMSE: 1.0483\n",
      "RMSE: 1.0665\n",
      "RMSE: 1.0665\n",
      "RMSE: 1.0663\n",
      "RMSE: 1.0735\n",
      "RMSE: 1.0712\n",
      "RMSE: 1.0725\n",
      "RMSE: 1.0483\n",
      "RMSE: 1.0483\n",
      "RMSE: 1.0483\n",
      "RMSE: 1.0724\n",
      "RMSE: 1.0754\n",
      "RMSE: 1.0754\n",
      "RMSE: 1.0737\n",
      "RMSE: 1.0694\n",
      "RMSE: 1.0805\n"
     ]
    }
   ],
   "source": [
    "n_cltr_u  = [1,2,3]\n",
    "n_cltr_i = [1,2,3]\n",
    "n_epochs = [10, 15, 20]\n",
    "\n",
    "from itertools import product\n",
    "val = [n_cltr_u,n_cltr_i,n_epochs]\n",
    "para = []\n",
    "acc = []\n",
    "for i in product(*val):\n",
    "    para.append(i)\n",
    "    algo = CoClustering(n_cltr_u = i[0], n_cltr_i = i[1], n_epochs = i[2])\n",
    "    algo.fit(train)\n",
    "    pred = algo.test(test)\n",
    "    acc.append(accuracy.rmse(pred))"
   ]
  },
  {
   "cell_type": "code",
   "execution_count": 125,
   "id": "de501535",
   "metadata": {},
   "outputs": [
    {
     "data": {
      "text/plain": [
       "(1, 1, 10)"
      ]
     },
     "execution_count": 125,
     "metadata": {},
     "output_type": "execute_result"
    }
   ],
   "source": [
    "para[acc.index(min(acc))]"
   ]
  },
  {
   "cell_type": "code",
   "execution_count": 127,
   "id": "a7c66da9",
   "metadata": {},
   "outputs": [
    {
     "name": "stderr",
     "output_type": "stream",
     "text": [
      "/var/folders/d4/s3dpbdr15qq9g4_2mn0lm1kc0000gn/T/ipykernel_13344/76367048.py:9: DeprecationWarning: `np.int` is a deprecated alias for the builtin `int`. To silence this warning, use `int` by itself. Doing this will not modify any behavior and is safe. When replacing `np.int`, you may wish to use e.g. `np.int64` or `np.int32` to specify the precision. If you wish to review your current use, check the release note link for additional information.\n",
      "Deprecated in NumPy 1.20; for more details and guidance: https://numpy.org/devdocs/release/1.20.0-notes.html#deprecations\n",
      "  algo.fit(train)\n"
     ]
    },
    {
     "name": "stdout",
     "output_type": "stream",
     "text": [
      "RMSE: 1.0483\n",
      "RMSE: 1.0483\n",
      "RMSE: 1.0483\n",
      "RMSE: 1.0483\n",
      "RMSE: 1.0483\n",
      "RMSE: 1.0483\n",
      "RMSE: 1.0483\n",
      "RMSE: 1.0483\n",
      "RMSE: 1.0483\n"
     ]
    }
   ],
   "source": [
    "n_epoch = list(range(1,10))\n",
    "\n",
    "from itertools import product\n",
    "val = [n_cltr_u,n_cltr_i,n_epochs]\n",
    "para = []\n",
    "acc = []\n",
    "for i in range(len(n_epoch)):\n",
    "    algo = CoClustering(n_cltr_u = 1, n_cltr_i = 1, n_epochs = n_epoch[i])\n",
    "    algo.fit(train)\n",
    "    pred = algo.test(test)\n",
    "    acc.append(accuracy.rmse(pred))"
   ]
  },
  {
   "cell_type": "code",
   "execution_count": 131,
   "id": "55b1d395",
   "metadata": {},
   "outputs": [
    {
     "name": "stdout",
     "output_type": "stream",
     "text": [
      "Evaluating RMSE of algorithm CoClustering on 5 split(s).\n",
      "\n",
      "                  Fold 1  Fold 2  Fold 3  Fold 4  Fold 5  Mean    Std     \n",
      "RMSE (testset)    1.0492  1.0564  1.0489  1.0464  1.0583  1.0518  0.0046  \n",
      "Fit time          0.68    0.65    0.65    0.64    0.66    0.65    0.01    \n",
      "Test time         0.15    0.06    0.15    0.07    0.07    0.10    0.04    \n"
     ]
    }
   ],
   "source": [
    "algo = CoClustering(n_cltr_u = 1, n_cltr_i = 1, n_epochs = 10)\n",
    "\n",
    "SVDpp_best = cross_validate(algo, data, measures=['RMSE'], cv=5, verbose=True)"
   ]
  },
  {
   "cell_type": "markdown",
   "id": "cf4498b3",
   "metadata": {},
   "source": [
    "### The best RMSE for CoClustering is 1.0518 on 5-fold cross validation"
   ]
  },
  {
   "cell_type": "code",
   "execution_count": 135,
   "id": "5b551d9c",
   "metadata": {},
   "outputs": [],
   "source": [
    "comp = pd.DataFrame({'Models':['SVD','SVD++','KNN Baseline','CoClustering'],'RMSE':[1.0144,1.0148 ,1.0593, 1.0518]})"
   ]
  },
  {
   "cell_type": "code",
   "execution_count": 137,
   "id": "43e2a994",
   "metadata": {},
   "outputs": [
    {
     "data": {
      "text/plain": [
       "[Text(0.5, 1.0, 'RMSE on different models')]"
      ]
     },
     "execution_count": 137,
     "metadata": {},
     "output_type": "execute_result"
    },
    {
     "data": {
      "image/png": "[encoded data removed]",
      "text/plain": [
       "<Figure size 576x288 with 1 Axes>"
      ]
     },
     "metadata": {},
     "output_type": "display_data"
    }
   ],
   "source": [
    "sns.set(rc = {'figure.figsize':(8,4)})\n",
    "sns.barplot(x = \"RMSE\",y = \"Models\", data = comp, color = \"pink\" ).set(title = \"RMSE on different models\")"
   ]
  },
  {
   "cell_type": "markdown",
   "id": "9c654832",
   "metadata": {},
   "source": [
    "# THE END"
   ]
  }
 ],
 "metadata": {
  "kernelspec": {
   "display_name": "Python 3 (ipykernel)",
   "language": "python",
   "name": "python3"
  },
  "language_info": {
   "codemirror_mode": {
    "name": "ipython",
    "version": 3
   },
   "file_extension": ".py",
   "mimetype": "text/x-python",
   "name": "python",
   "nbconvert_exporter": "python",
   "pygments_lexer": "ipython3",
   "version": "3.9.7"
  }
 },
 "nbformat": 4,
 "nbformat_minor": 5
}
